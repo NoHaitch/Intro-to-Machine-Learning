{
 "cells": [
  {
   "cell_type": "markdown",
   "metadata": {
    "id": "uSIWCqrYmFED"
   },
   "source": [
    "# IF3170 Artificial Intelligence | EDA Assignement\n",
    "\n",
    "This notebook serves as a template for the assignment. Please create a copy of this notebook to complete your work. You can add more code blocks if needed."
   ]
  },
  {
   "cell_type": "markdown",
   "metadata": {
    "id": "h7GBlbj5mFEE"
   },
   "source": [
    "Group Number: xx\n",
    "\n",
    "Group Members:\n",
    "- Name (NIM)\n",
    "- Name (NIM)"
   ]
  },
  {
   "cell_type": "markdown",
   "metadata": {
    "id": "0h-OTlV0mFEE"
   },
   "source": [
    "## Import Libraries"
   ]
  },
  {
   "cell_type": "code",
   "execution_count": 2,
   "metadata": {
    "id": "6HiGhI10mFEE"
   },
   "outputs": [],
   "source": [
    "import pandas as pd\n",
    "import numpy as np\n",
    "from IPython.display import Markdown, display\n",
    "\n",
    "# Function to display markdown\n",
    "def print_markdown(md_text):\n",
    "    display(Markdown(md_text))"
   ]
  },
  {
   "cell_type": "markdown",
   "metadata": {
    "id": "ugTwxRyfmFEF"
   },
   "source": [
    "## Import Dataset"
   ]
  },
  {
   "cell_type": "code",
   "execution_count": 3,
   "metadata": {
    "colab": {
     "base_uri": "https://localhost:8080/",
     "height": 206
    },
    "id": "snidRLctv2KH",
    "outputId": "808956ea-d562-4f62-c1c0-55ef605e376d"
   },
   "outputs": [
    {
     "data": {
      "text/markdown": [
       "### Basic Features"
      ],
      "text/plain": [
       "<IPython.core.display.Markdown object>"
      ]
     },
     "metadata": {},
     "output_type": "display_data"
    },
    {
     "name": "stdout",
     "output_type": "stream",
     "text": [
      "  state       dur  sbytes  dbytes  sttl  dttl  sloss  dloss service  \\\n",
      "0   FIN  0.121478     258     172   252   254      0      0       -   \n",
      "1   FIN  0.649902     734   42014    62   252      2     17       -   \n",
      "2   FIN  1.623129     364   13186    62   252      1      6       -   \n",
      "3   FIN  1.681642     628     770    62   252      1      3     ftp   \n",
      "4   FIN  0.449454     534     268   254   252      2      1       -   \n",
      "\n",
      "          sload          dload  spkts  dpkts  id  \n",
      "0  14158.942380    8495.365234      6      4   1  \n",
      "1   8395.112305  503571.312500     14     38   2  \n",
      "2   1572.271851   60929.230470      8     16   3  \n",
      "3   2740.178955    3358.622070     12     12   4  \n",
      "4   8561.499023    3987.059814     10      6   5  \n"
     ]
    },
    {
     "data": {
      "text/markdown": [
       "### Content Features"
      ],
      "text/plain": [
       "<IPython.core.display.Markdown object>"
      ]
     },
     "metadata": {},
     "output_type": "display_data"
    },
    {
     "name": "stdout",
     "output_type": "stream",
     "text": [
      "   swin  dwin       stcpb       dtcpb  smean  dmean  trans_depth  \\\n",
      "0   255   255   621772692  2202533631     43     43            0   \n",
      "1   255   255  1417884146  3077387971     52   1106            0   \n",
      "2   255   255  2116150707  2963114973     46    824            0   \n",
      "3   255   255  1107119177  1047442890     52     64            0   \n",
      "4   255   255  2436137549  1977154190     53     45            0   \n",
      "\n",
      "   response_body_len  id  \n",
      "0                  0   1  \n",
      "1                  0   2  \n",
      "2                  0   3  \n",
      "3                  0   4  \n",
      "4                  0   5  \n"
     ]
    },
    {
     "data": {
      "text/markdown": [
       "### Time Features"
      ],
      "text/plain": [
       "<IPython.core.display.Markdown object>"
      ]
     },
     "metadata": {},
     "output_type": "display_data"
    },
    {
     "name": "stdout",
     "output_type": "stream",
     "text": [
      "           sjit          djit      sinpkt      dinpkt    tcprtt    synack  \\\n",
      "0     30.177547     11.830604   24.295600    8.375000  0.000000  0.000000   \n",
      "1     61.426934   1387.778330   49.915000   15.432865  0.000000  0.000000   \n",
      "2  17179.586860  11420.926230  231.875571  102.737203  0.111897  0.061458   \n",
      "3    259.080172   4991.784669  152.876547   90.235726  0.000000  0.000000   \n",
      "4   2415.837634    115.807000   47.750333   75.659602  0.128381  0.071147   \n",
      "\n",
      "     ackdat  id  \n",
      "0  0.000000   1  \n",
      "1  0.000000   2  \n",
      "2  0.050439   3  \n",
      "3  0.000000   4  \n",
      "4  0.057234   5  \n"
     ]
    },
    {
     "data": {
      "text/markdown": [
       "### Flow Features"
      ],
      "text/plain": [
       "<IPython.core.display.Markdown object>"
      ]
     },
     "metadata": {},
     "output_type": "display_data"
    },
    {
     "name": "stdout",
     "output_type": "stream",
     "text": [
      "  proto  id\n",
      "0   tcp   1\n",
      "1   tcp   2\n",
      "2   tcp   3\n",
      "3   tcp   4\n",
      "4   tcp   5\n"
     ]
    },
    {
     "data": {
      "text/markdown": [
       "### Additional Features"
      ],
      "text/plain": [
       "<IPython.core.display.Markdown object>"
      ]
     },
     "metadata": {},
     "output_type": "display_data"
    },
    {
     "name": "stdout",
     "output_type": "stream",
     "text": [
      "   is_sm_ips_ports  ct_state_ttl  ct_flw_http_mthd  is_ftp_login  ct_ftp_cmd  \\\n",
      "0                0             0                 0             0           0   \n",
      "1                0             1                 0             0           0   \n",
      "2                0             1                 0             0           0   \n",
      "3                0             1                 0             1           1   \n",
      "4                0             1                 0             0           0   \n",
      "\n",
      "   ct_srv_src  ct_srv_dst  ct_dst_ltm  ct_src_ltm  ct_src_dport_ltm  \\\n",
      "0           1           1           1           1                 1   \n",
      "1          43           6           1           1                 1   \n",
      "2           7           6           2           2                 1   \n",
      "3           1           1           2           2                 1   \n",
      "4          43          39           2           2                 2   \n",
      "\n",
      "   ct_dst_sport_ltm  ct_dst_src_ltm  id  \n",
      "0                 1               1   1  \n",
      "1                 1               2   2  \n",
      "2                 1               3   3  \n",
      "3                 1               3   4  \n",
      "4                 1              40   5  \n"
     ]
    }
   ],
   "source": [
    "df_basic: pd.DataFrame = pd.read_csv('https://drive.google.com/uc?id=13tF-GIYu16jW4nwtpyr3wdnZ9dxSO2Bw')\n",
    "df_content: pd.DataFrame = pd.read_csv('https://drive.google.com/uc?id=149SCgTHeTAH5JJK1mhCMFS0zcxb9EQTB')\n",
    "df_time: pd.DataFrame = pd.read_csv('https://drive.google.com/uc?id=142EMJgpcjkGpCkH89PbCAQ_kfQQNB4Di')\n",
    "df_flow: pd.DataFrame = pd.read_csv('https://drive.google.com/uc?id=148NT-iSRb5gdyUAgj5HRA474uKWTAGF2')\n",
    "df_additional: pd.DataFrame = pd.read_csv('https://drive.google.com/uc?id=140SZNWJOVSKFNIFy0z-Io3JTYvBzdJkn')\n",
    "\n",
    "print_markdown(\"### Basic Features\")\n",
    "print(df_basic.head())\n",
    "print_markdown(\"### Content Features\")\n",
    "print(df_content.head())\n",
    "print_markdown(\"### Time Features\")\n",
    "print(df_time.head())\n",
    "print_markdown(\"### Flow Features\")\n",
    "print(df_flow.head())\n",
    "print_markdown(\"### Additional Features\")\n",
    "print(df_additional.head())\n",
    "\n",
    "df_array: list[pd.DataFrame] = [df_basic, df_content, df_time, df_flow, df_additional]\n",
    "df_name_list: list[str] = [\"Basic Features\", \"Content Features\", \"Time Features\", \"Flow Features\", \"Additional Features\"]"
   ]
  },
  {
   "cell_type": "markdown",
   "metadata": {
    "id": "M7K9dRzOmFEG"
   },
   "source": [
    "# 1. Exploratory Data Analysis\n",
    "\n",
    "Exploratory Data Analysis (EDA) is a crucial step in the data analysis process that involves examining and visualizing data sets to uncover patterns, trends, anomalies, and insights. It is the first step before applying more advanced statistical and machine learning techniques. EDA helps you to gain a deep understanding of the data you are working with, allowing you to make informed decisions and formulate hypotheses for further analysis."
   ]
  },
  {
   "cell_type": "markdown",
   "metadata": {
    "id": "w6tzpaCimFEG"
   },
   "source": [
    "## A. Data Understanding\n",
    "The objective of this section is for participants to understand the quality of the provided data. This includes:\n",
    "\n",
    "1. Data Size\n",
    "2. Statistics of Each Feature\n",
    "3. Outliers\n",
    "4. Correlation\n",
    "5. Distribution"
   ]
  },
  {
   "cell_type": "markdown",
   "metadata": {
    "id": "96TcnbB9mFEG"
   },
   "source": [
    "### Step 1\n",
    "\n",
    "Find the following:\n",
    "\n",
    "1. The size of the data (instances and features).\n",
    "2. The data types of each feature.\n",
    "3. The number of unique values for categorical features.\n",
    "4. The minimum, maximum, mean, median, and standard deviation values for non-categorical features.\n",
    "5. Explain the significance of gathering the first four pieces of information."
   ]
  },
  {
   "cell_type": "code",
   "execution_count": null,
   "metadata": {},
   "outputs": [],
   "source": [
    "# Setup categorical column for each dataframes\n",
    "\n",
    "def identify_column_types(df):\n",
    "    categorical_cols = []\n",
    "    non_categorical_cols = []\n",
    "    \n",
    "    for col in df.columns:\n",
    "        if df[col].dtype == 'object' or df[col].dtype == 'category':\n",
    "            categorical_cols.append(col)\n",
    "        else:\n",
    "            non_categorical_cols.append(col)\n",
    "    return categorical_cols, non_categorical_cols\n",
    "\n",
    "categorical_col_basic, non_categorical_col_basic = identify_column_types(df_basic)\n",
    "categorical_col_additional, non_categorical_col_additional = identify_column_types(df_additional)\n",
    "categorical_col_time, non_categorical_col_time = identify_column_types(df_time)\n",
    "categorical_col_content, non_categorical_col_content = identify_column_types(df_content)\n",
    "categorical_col_flow, non_categorical_col_flow = identify_column_types(df_flow)"
   ]
  },
  {
   "cell_type": "markdown",
   "metadata": {},
   "source": [
    "#### a. Additional Features"
   ]
  },
  {
   "cell_type": "code",
   "execution_count": null,
   "metadata": {
    "id": "TaELJ0atmFEG"
   },
   "outputs": [
    {
     "data": {
      "text/markdown": [
       "### 0. Basic Features"
      ],
      "text/plain": [
       "<IPython.core.display.Markdown object>"
      ]
     },
     "metadata": {},
     "output_type": "display_data"
    },
    {
     "data": {
      "text/markdown": [
       "#### a. Data Size"
      ],
      "text/plain": [
       "<IPython.core.display.Markdown object>"
      ]
     },
     "metadata": {},
     "output_type": "display_data"
    },
    {
     "name": "stdout",
     "output_type": "stream",
     "text": [
      "Number of instances: 175341 | Number of features: 14\n"
     ]
    },
    {
     "data": {
      "text/markdown": [
       "#### b. Data Types"
      ],
      "text/plain": [
       "<IPython.core.display.Markdown object>"
      ]
     },
     "metadata": {},
     "output_type": "display_data"
    },
    {
     "name": "stdout",
     "output_type": "stream",
     "text": [
      "Column state: object\n",
      "Column dur: float64\n",
      "Column sbytes: int64\n",
      "Column dbytes: int64\n",
      "Column sttl: int64\n",
      "Column dttl: int64\n",
      "Column sloss: int64\n",
      "Column dloss: int64\n",
      "Column service: object\n",
      "Column sload: float64\n",
      "Column dload: float64\n",
      "Column spkts: int64\n",
      "Column dpkts: int64\n",
      "Column id: int64\n"
     ]
    },
    {
     "data": {
      "text/markdown": [
       "#### c. Unique Values"
      ],
      "text/plain": [
       "<IPython.core.display.Markdown object>"
      ]
     },
     "metadata": {},
     "output_type": "display_data"
    },
    {
     "name": "stdout",
     "output_type": "stream",
     "text": [
      "Column state: 9\n",
      "Column dur: 74039\n",
      "Column sbytes: 7214\n",
      "Column dbytes: 6660\n",
      "Column sttl: 11\n",
      "Column dttl: 6\n",
      "Column sloss: 409\n",
      "Column dloss: 370\n",
      "Column service: 13\n",
      "Column sload: 80885\n",
      "Column dload: 77474\n",
      "Column spkts: 480\n",
      "Column dpkts: 443\n",
      "Column id: 175341\n"
     ]
    },
    {
     "data": {
      "text/markdown": [
       "#### d. Data Statistics"
      ],
      "text/plain": [
       "<IPython.core.display.Markdown object>"
      ]
     },
     "metadata": {},
     "output_type": "display_data"
    },
    {
     "name": "stdout",
     "output_type": "stream",
     "text": [
      "                 dur        sbytes        dbytes           sttl  \\\n",
      "count  175341.000000  1.753410e+05  1.753410e+05  175341.000000   \n",
      "mean        1.359389  8.844844e+03  1.492892e+04     179.546997   \n",
      "std         6.480249  1.747656e+05  1.436542e+05     102.940011   \n",
      "min         0.000000  2.800000e+01  0.000000e+00       0.000000   \n",
      "25%         0.000008  1.140000e+02  0.000000e+00      62.000000   \n",
      "50%         0.001582  4.300000e+02  1.640000e+02     254.000000   \n",
      "75%         0.668069  1.418000e+03  1.102000e+03     254.000000   \n",
      "max        59.999989  1.296523e+07  1.465555e+07     255.000000   \n",
      "\n",
      "                dttl          sloss          dloss         sload  \\\n",
      "count  175341.000000  175341.000000  175341.000000  1.753410e+05   \n",
      "mean       79.609567       4.953000       6.948010  7.345403e+07   \n",
      "std       110.506863      66.005059      52.732999  1.883574e+08   \n",
      "min         0.000000       0.000000       0.000000  0.000000e+00   \n",
      "25%         0.000000       0.000000       0.000000  1.305334e+04   \n",
      "50%        29.000000       0.000000       0.000000  8.796748e+05   \n",
      "75%       252.000000       3.000000       2.000000  8.888889e+07   \n",
      "max       254.000000    4803.000000    5484.000000  5.988000e+09   \n",
      "\n",
      "              dload          spkts          dpkts             id  \n",
      "count  1.753410e+05  175341.000000  175341.000000  175341.000000  \n",
      "mean   6.712056e+05      20.298664      18.969591   87671.000000  \n",
      "std    2.421312e+06     136.887597     110.258271   50616.731112  \n",
      "min    0.000000e+00       1.000000       0.000000       1.000000  \n",
      "25%    0.000000e+00       2.000000       0.000000   43836.000000  \n",
      "50%    1.447023e+03       2.000000       2.000000   87671.000000  \n",
      "75%    2.784487e+04      12.000000      10.000000  131506.000000  \n",
      "max    2.242273e+07    9616.000000   10974.000000  175341.000000  \n"
     ]
    },
    {
     "data": {
      "text/markdown": [
       "### 1. Content Features"
      ],
      "text/plain": [
       "<IPython.core.display.Markdown object>"
      ]
     },
     "metadata": {},
     "output_type": "display_data"
    },
    {
     "data": {
      "text/markdown": [
       "#### a. Data Size"
      ],
      "text/plain": [
       "<IPython.core.display.Markdown object>"
      ]
     },
     "metadata": {},
     "output_type": "display_data"
    },
    {
     "name": "stdout",
     "output_type": "stream",
     "text": [
      "Number of instances: 175341 | Number of features: 9\n"
     ]
    },
    {
     "data": {
      "text/markdown": [
       "#### b. Data Types"
      ],
      "text/plain": [
       "<IPython.core.display.Markdown object>"
      ]
     },
     "metadata": {},
     "output_type": "display_data"
    },
    {
     "name": "stdout",
     "output_type": "stream",
     "text": [
      "Column swin: int64\n",
      "Column dwin: int64\n",
      "Column stcpb: int64\n",
      "Column dtcpb: int64\n",
      "Column smean: int64\n",
      "Column dmean: int64\n",
      "Column trans_depth: int64\n",
      "Column response_body_len: int64\n",
      "Column id: int64\n"
     ]
    },
    {
     "data": {
      "text/markdown": [
       "#### c. Unique Values"
      ],
      "text/plain": [
       "<IPython.core.display.Markdown object>"
      ]
     },
     "metadata": {},
     "output_type": "display_data"
    },
    {
     "name": "stdout",
     "output_type": "stream",
     "text": [
      "Column swin: 13\n",
      "Column dwin: 7\n",
      "Column stcpb: 75265\n",
      "Column dtcpb: 75089\n",
      "Column smean: 1357\n",
      "Column dmean: 1328\n",
      "Column trans_depth: 11\n",
      "Column response_body_len: 2386\n",
      "Column id: 175341\n"
     ]
    },
    {
     "data": {
      "text/markdown": [
       "#### d. Data Statistics"
      ],
      "text/plain": [
       "<IPython.core.display.Markdown object>"
      ]
     },
     "metadata": {},
     "output_type": "display_data"
    },
    {
     "name": "stdout",
     "output_type": "stream",
     "text": [
      "                swin           dwin         stcpb         dtcpb  \\\n",
      "count  175341.000000  175341.000000  1.753410e+05  1.753410e+05   \n",
      "mean      116.257339     115.013625  9.692504e+08  9.688770e+08   \n",
      "std       127.001024     126.886530  1.355264e+09  1.354000e+09   \n",
      "min         0.000000       0.000000  0.000000e+00  0.000000e+00   \n",
      "25%         0.000000       0.000000  0.000000e+00  0.000000e+00   \n",
      "50%         0.000000       0.000000  0.000000e+00  0.000000e+00   \n",
      "75%       255.000000     255.000000  1.916651e+09  1.913675e+09   \n",
      "max       255.000000     255.000000  4.294959e+09  4.294882e+09   \n",
      "\n",
      "               smean          dmean    trans_depth  response_body_len  \\\n",
      "count  175341.000000  175341.000000  175341.000000       1.753410e+05   \n",
      "mean      136.751769     124.173382       0.105982       2.144292e+03   \n",
      "std       204.677360     258.317056       0.776911       5.420797e+04   \n",
      "min        28.000000       0.000000       0.000000       0.000000e+00   \n",
      "25%        57.000000       0.000000       0.000000       0.000000e+00   \n",
      "50%        73.000000      44.000000       0.000000       0.000000e+00   \n",
      "75%       100.000000      89.000000       0.000000       0.000000e+00   \n",
      "max      1504.000000    1458.000000     172.000000       6.558056e+06   \n",
      "\n",
      "                  id  \n",
      "count  175341.000000  \n",
      "mean    87671.000000  \n",
      "std     50616.731112  \n",
      "min         1.000000  \n",
      "25%     43836.000000  \n",
      "50%     87671.000000  \n",
      "75%    131506.000000  \n",
      "max    175341.000000  \n"
     ]
    },
    {
     "data": {
      "text/markdown": [
       "### 2. Time Features"
      ],
      "text/plain": [
       "<IPython.core.display.Markdown object>"
      ]
     },
     "metadata": {},
     "output_type": "display_data"
    },
    {
     "data": {
      "text/markdown": [
       "#### a. Data Size"
      ],
      "text/plain": [
       "<IPython.core.display.Markdown object>"
      ]
     },
     "metadata": {},
     "output_type": "display_data"
    },
    {
     "name": "stdout",
     "output_type": "stream",
     "text": [
      "Number of instances: 175341 | Number of features: 8\n"
     ]
    },
    {
     "data": {
      "text/markdown": [
       "#### b. Data Types"
      ],
      "text/plain": [
       "<IPython.core.display.Markdown object>"
      ]
     },
     "metadata": {},
     "output_type": "display_data"
    },
    {
     "name": "stdout",
     "output_type": "stream",
     "text": [
      "Column sjit: float64\n",
      "Column djit: float64\n",
      "Column sinpkt: float64\n",
      "Column dinpkt: float64\n",
      "Column tcprtt: float64\n",
      "Column synack: float64\n",
      "Column ackdat: float64\n",
      "Column id: int64\n"
     ]
    },
    {
     "data": {
      "text/markdown": [
       "#### c. Unique Values"
      ],
      "text/plain": [
       "<IPython.core.display.Markdown object>"
      ]
     },
     "metadata": {},
     "output_type": "display_data"
    },
    {
     "name": "stdout",
     "output_type": "stream",
     "text": [
      "Column sjit: 77532\n",
      "Column djit: 76831\n",
      "Column sinpkt: 76161\n",
      "Column dinpkt: 74245\n",
      "Column tcprtt: 43319\n",
      "Column synack: 40142\n",
      "Column ackdat: 37708\n",
      "Column id: 175341\n"
     ]
    },
    {
     "data": {
      "text/markdown": [
       "#### d. Data Statistics"
      ],
      "text/plain": [
       "<IPython.core.display.Markdown object>"
      ]
     },
     "metadata": {},
     "output_type": "display_data"
    },
    {
     "name": "stdout",
     "output_type": "stream",
     "text": [
      "               sjit           djit         sinpkt         dinpkt  \\\n",
      "count  1.753410e+05  175341.000000  175341.000000  175341.000000   \n",
      "mean   4.976254e+03     604.353826     985.976864      88.216296   \n",
      "std    4.496585e+04    4061.043281    7242.245841     987.093195   \n",
      "min    0.000000e+00       0.000000       0.000000       0.000000   \n",
      "25%    0.000000e+00       0.000000       0.008000       0.000000   \n",
      "50%    0.000000e+00       0.000000       0.279733       0.006000   \n",
      "75%    2.513295e+03     114.990625      55.156896      51.053000   \n",
      "max    1.460480e+06  289388.269700   84371.496000   56716.824000   \n",
      "\n",
      "              tcprtt         synack         ackdat             id  \n",
      "count  175341.000000  175341.000000  175341.000000  175341.000000  \n",
      "mean        0.041396       0.021020       0.020375   87671.000000  \n",
      "std         0.079354       0.043400       0.040506   50616.731112  \n",
      "min         0.000000       0.000000       0.000000       1.000000  \n",
      "25%         0.000000       0.000000       0.000000   43836.000000  \n",
      "50%         0.000000       0.000000       0.000000   87671.000000  \n",
      "75%         0.065481       0.023268       0.038906  131506.000000  \n",
      "max         2.518893       2.100352       1.520884  175341.000000  \n"
     ]
    },
    {
     "data": {
      "text/markdown": [
       "### 3. Flow Features"
      ],
      "text/plain": [
       "<IPython.core.display.Markdown object>"
      ]
     },
     "metadata": {},
     "output_type": "display_data"
    },
    {
     "data": {
      "text/markdown": [
       "#### a. Data Size"
      ],
      "text/plain": [
       "<IPython.core.display.Markdown object>"
      ]
     },
     "metadata": {},
     "output_type": "display_data"
    },
    {
     "name": "stdout",
     "output_type": "stream",
     "text": [
      "Number of instances: 175341 | Number of features: 2\n"
     ]
    },
    {
     "data": {
      "text/markdown": [
       "#### b. Data Types"
      ],
      "text/plain": [
       "<IPython.core.display.Markdown object>"
      ]
     },
     "metadata": {},
     "output_type": "display_data"
    },
    {
     "name": "stdout",
     "output_type": "stream",
     "text": [
      "Column proto: object\n",
      "Column id: int64\n"
     ]
    },
    {
     "data": {
      "text/markdown": [
       "#### c. Unique Values"
      ],
      "text/plain": [
       "<IPython.core.display.Markdown object>"
      ]
     },
     "metadata": {},
     "output_type": "display_data"
    },
    {
     "name": "stdout",
     "output_type": "stream",
     "text": [
      "Column proto: 133\n",
      "Column id: 175341\n"
     ]
    },
    {
     "data": {
      "text/markdown": [
       "#### d. Data Statistics"
      ],
      "text/plain": [
       "<IPython.core.display.Markdown object>"
      ]
     },
     "metadata": {},
     "output_type": "display_data"
    },
    {
     "name": "stdout",
     "output_type": "stream",
     "text": [
      "                  id\n",
      "count  175341.000000\n",
      "mean    87671.000000\n",
      "std     50616.731112\n",
      "min         1.000000\n",
      "25%     43836.000000\n",
      "50%     87671.000000\n",
      "75%    131506.000000\n",
      "max    175341.000000\n"
     ]
    },
    {
     "data": {
      "text/markdown": [
       "### 4. Additional Features"
      ],
      "text/plain": [
       "<IPython.core.display.Markdown object>"
      ]
     },
     "metadata": {},
     "output_type": "display_data"
    },
    {
     "data": {
      "text/markdown": [
       "#### a. Data Size"
      ],
      "text/plain": [
       "<IPython.core.display.Markdown object>"
      ]
     },
     "metadata": {},
     "output_type": "display_data"
    },
    {
     "name": "stdout",
     "output_type": "stream",
     "text": [
      "Number of instances: 175341 | Number of features: 13\n"
     ]
    },
    {
     "data": {
      "text/markdown": [
       "#### b. Data Types"
      ],
      "text/plain": [
       "<IPython.core.display.Markdown object>"
      ]
     },
     "metadata": {},
     "output_type": "display_data"
    },
    {
     "name": "stdout",
     "output_type": "stream",
     "text": [
      "Column is_sm_ips_ports: int64\n",
      "Column ct_state_ttl: int64\n",
      "Column ct_flw_http_mthd: int64\n",
      "Column is_ftp_login: int64\n",
      "Column ct_ftp_cmd: int64\n",
      "Column ct_srv_src: int64\n",
      "Column ct_srv_dst: int64\n",
      "Column ct_dst_ltm: int64\n",
      "Column ct_src_ltm: int64\n",
      "Column ct_src_dport_ltm: int64\n",
      "Column ct_dst_sport_ltm: int64\n",
      "Column ct_dst_src_ltm: int64\n",
      "Column id: int64\n"
     ]
    },
    {
     "data": {
      "text/markdown": [
       "#### c. Unique Values"
      ],
      "text/plain": [
       "<IPython.core.display.Markdown object>"
      ]
     },
     "metadata": {},
     "output_type": "display_data"
    },
    {
     "name": "stdout",
     "output_type": "stream",
     "text": [
      "Column is_sm_ips_ports: 2\n",
      "Column ct_state_ttl: 5\n",
      "Column ct_flw_http_mthd: 11\n",
      "Column is_ftp_login: 4\n",
      "Column ct_ftp_cmd: 4\n",
      "Column ct_srv_src: 52\n",
      "Column ct_srv_dst: 52\n",
      "Column ct_dst_ltm: 50\n",
      "Column ct_src_ltm: 50\n",
      "Column ct_src_dport_ltm: 47\n",
      "Column ct_dst_sport_ltm: 32\n",
      "Column ct_dst_src_ltm: 54\n",
      "Column id: 175341\n"
     ]
    },
    {
     "data": {
      "text/markdown": [
       "#### d. Data Statistics"
      ],
      "text/plain": [
       "<IPython.core.display.Markdown object>"
      ]
     },
     "metadata": {},
     "output_type": "display_data"
    },
    {
     "name": "stdout",
     "output_type": "stream",
     "text": [
      "       is_sm_ips_ports   ct_state_ttl  ct_flw_http_mthd   is_ftp_login  \\\n",
      "count    175341.000000  175341.000000     175341.000000  175341.000000   \n",
      "mean          0.015752       1.304179          0.133066       0.014948   \n",
      "std           0.124516       0.954406          0.701208       0.126048   \n",
      "min           0.000000       0.000000          0.000000       0.000000   \n",
      "25%           0.000000       1.000000          0.000000       0.000000   \n",
      "50%           0.000000       1.000000          0.000000       0.000000   \n",
      "75%           0.000000       2.000000          0.000000       0.000000   \n",
      "max           1.000000       6.000000         30.000000       4.000000   \n",
      "\n",
      "          ct_ftp_cmd     ct_srv_src     ct_srv_dst     ct_dst_ltm  \\\n",
      "count  175341.000000  175341.000000  175341.000000  175341.000000   \n",
      "mean        0.014948       9.306437       9.100758       6.193936   \n",
      "std         0.126048      10.704331      10.756952       8.052476   \n",
      "min         0.000000       1.000000       1.000000       1.000000   \n",
      "25%         0.000000       2.000000       2.000000       1.000000   \n",
      "50%         0.000000       5.000000       4.000000       2.000000   \n",
      "75%         0.000000      12.000000      12.000000       7.000000   \n",
      "max         4.000000      63.000000      62.000000      51.000000   \n",
      "\n",
      "          ct_src_ltm  ct_src_dport_ltm  ct_dst_sport_ltm  ct_dst_src_ltm  \\\n",
      "count  175341.000000     175341.000000     175341.000000   175341.000000   \n",
      "mean        6.955789          5.383538          4.206255        8.729881   \n",
      "std         8.321493          8.047104          5.783585       10.956186   \n",
      "min         1.000000          1.000000          1.000000        1.000000   \n",
      "25%         2.000000          1.000000          1.000000        1.000000   \n",
      "50%         3.000000          1.000000          1.000000        3.000000   \n",
      "75%         9.000000          5.000000          3.000000       12.000000   \n",
      "max        60.000000         51.000000         46.000000       65.000000   \n",
      "\n",
      "                  id  \n",
      "count  175341.000000  \n",
      "mean    87671.000000  \n",
      "std     50616.731112  \n",
      "min         1.000000  \n",
      "25%     43836.000000  \n",
      "50%     87671.000000  \n",
      "75%    131506.000000  \n",
      "max    175341.000000  \n"
     ]
    }
   ],
   "source": [
    "for i, df in enumerate(df_array):\n",
    "    print_markdown(f\"### {i}. {df_name_list[i]}\")\n",
    "    print_markdown(\"#### a. Data Size\")\n",
    "    print(f\"Number of instances: {df.shape[0]} | Number of features: {df.shape[1]}\")\n",
    "    print_markdown(f\"#### b. Data Types\")\n",
    "    for col in df:\n",
    "        print(f\"Column {col}: {df[col].dtype}\")\n",
    "    print_markdown(\"#### c. Unique Values\")\n",
    "    for col in df:\n",
    "        print(f\"Column {col}: {df[col].nunique()}\")\n",
    "    print_markdown(\"#### d. Data Statistics\")\n",
    "    print(df.describe())\n",
    "    \n"
   ]
  },
  {
   "cell_type": "markdown",
   "metadata": {
    "id": "sNRFMQoumFEG"
   },
   "source": [
    "### Step 2\n",
    "\n",
    "Find the following:\n",
    "\n",
    "1. Missing values for each feature.\n",
    "2. Outliers for each feature (use the methods you are familiar with).\n",
    "3. Why is it necessary to identify missing values and outliers?"
   ]
  },
  {
   "cell_type": "code",
   "execution_count": 5,
   "metadata": {
    "id": "caSC8wnpmFEH"
   },
   "outputs": [],
   "source": [
    "# Write your code here"
   ]
  },
  {
   "cell_type": "markdown",
   "metadata": {
    "id": "nl_Xcxn-mFEH"
   },
   "source": [
    "### Step 3\n",
    "\n",
    "Find the following:\n",
    "\n",
    "1. Correlations between features.\n",
    "2. Visualize the distribution of each feature (categorical and continuous).\n",
    "3. Visualize the correlation between features and the target variable.\n",
    "4. Explain the significance of understanding feature distributions and correlations."
   ]
  },
  {
   "cell_type": "code",
   "execution_count": 6,
   "metadata": {
    "id": "y7uzcuWgmFEH"
   },
   "outputs": [],
   "source": [
    "# Write your code here"
   ]
  },
  {
   "cell_type": "markdown",
   "metadata": {
    "id": "tGS62xxlmFEH"
   },
   "source": [
    "## B. Data Insights\n",
    "\n",
    "The objective of this section is for participants to understand how to formulate and get many insights from the given data so that we can improve the model performance. Given example questions:\n",
    "\n",
    "1. What are the most common protocols (proto) in the dataset, and are certain protocols more associated with specific attack categories?\n",
    "2. Are there significant differences in the values of network characteristics such as sload, sload, sbytes, and dbytes between attack and normal records?\n",
    "3. How does TCP-setup-related features vary, such as tcprtt, synack, and ackdat, across normal records and each type of attack records?"
   ]
  },
  {
   "cell_type": "markdown",
   "metadata": {
    "id": "ngKJAIjHmFEH"
   },
   "source": [
    "### Step 1\n",
    "\n",
    "Answer the three example questions by visualizing and explaining the insights for each question. Add markdown texts to explain the visualizations."
   ]
  },
  {
   "cell_type": "markdown",
   "metadata": {
    "id": "gQBlE_O0mFEH"
   },
   "source": [
    "#### 1. What are the most common protocols (proto) in the dataset, and are certain protocols more associated with specific attack categories?"
   ]
  },
  {
   "cell_type": "code",
   "execution_count": 7,
   "metadata": {
    "id": "wVaopwwPmFEH"
   },
   "outputs": [],
   "source": [
    "# Write your code here"
   ]
  },
  {
   "cell_type": "markdown",
   "metadata": {
    "id": "l-fb-3klmFEI"
   },
   "source": [
    "#### 2. Are there any significant differences in the values of network characteristics such as Sload, Dload, sbytes, and dbytes between attack and normal records?"
   ]
  },
  {
   "cell_type": "code",
   "execution_count": 8,
   "metadata": {
    "id": "23RcHcP3mFEI"
   },
   "outputs": [],
   "source": [
    "# Write your code here"
   ]
  },
  {
   "cell_type": "markdown",
   "metadata": {
    "id": "OIKBiJrCmFEI"
   },
   "source": [
    "#### 3. How does TCP-setup-related features vary, such as tcprtt, synack, and ackdat, across normal records and each type of attack records?"
   ]
  },
  {
   "cell_type": "code",
   "execution_count": 9,
   "metadata": {
    "id": "1TSAakrmmFEI",
    "trusted": true
   },
   "outputs": [],
   "source": [
    "# Write your code here"
   ]
  },
  {
   "cell_type": "markdown",
   "metadata": {
    "id": "TLO0_HBwmFEI"
   },
   "source": [
    "### Step 2\n",
    "\n",
    "Try to formulate five other new questions and answer them with the methods used before."
   ]
  },
  {
   "cell_type": "markdown",
   "metadata": {
    "id": "m8Xzww7lmFEI"
   },
   "source": [
    "#### 4. Your first question (replace this heading)"
   ]
  },
  {
   "cell_type": "code",
   "execution_count": 10,
   "metadata": {
    "id": "zkaWpkSwmFEI"
   },
   "outputs": [],
   "source": [
    "# Write your code here"
   ]
  },
  {
   "cell_type": "markdown",
   "metadata": {
    "id": "8fkn9jVWmFEI"
   },
   "source": [
    "#### 5. Your second question (replace this heading)"
   ]
  },
  {
   "cell_type": "code",
   "execution_count": 11,
   "metadata": {
    "id": "uEg3UUM4mFEI"
   },
   "outputs": [],
   "source": [
    "# Write your code here"
   ]
  },
  {
   "cell_type": "markdown",
   "metadata": {
    "id": "GD-Mq9t2mFEJ"
   },
   "source": [
    "#### 6. Your third question (replace this heading)"
   ]
  },
  {
   "cell_type": "code",
   "execution_count": 12,
   "metadata": {
    "id": "x8j9ErzJmFEJ",
    "trusted": true
   },
   "outputs": [],
   "source": [
    "# Write your code here"
   ]
  },
  {
   "cell_type": "markdown",
   "metadata": {
    "id": "i2iqJTl9mFEJ"
   },
   "source": [
    "#### 7. Your fourth question (replace this heading)"
   ]
  },
  {
   "cell_type": "code",
   "execution_count": 13,
   "metadata": {
    "execution": {
     "iopub.execute_input": "2024-11-05T04:10:12.279152Z",
     "iopub.status.busy": "2024-11-05T04:10:12.27873Z",
     "iopub.status.idle": "2024-11-05T04:10:12.311421Z",
     "shell.execute_reply": "2024-11-05T04:10:12.310572Z",
     "shell.execute_reply.started": "2024-11-05T04:10:12.279108Z"
    },
    "id": "S9HubN-8mFEJ",
    "trusted": true
   },
   "outputs": [],
   "source": [
    "# Write your code here"
   ]
  },
  {
   "cell_type": "markdown",
   "metadata": {
    "id": "a8IdPTpsmFEJ"
   },
   "source": [
    "#### 8. Your fifth question (replace this heading)"
   ]
  },
  {
   "cell_type": "code",
   "execution_count": 14,
   "metadata": {
    "id": "0NwSQ3a_mFEJ",
    "trusted": true
   },
   "outputs": [],
   "source": [
    "# Write your code here"
   ]
  }
 ],
 "metadata": {
  "colab": {
   "provenance": []
  },
  "kaggle": {
   "accelerator": "none",
   "dataSources": [
    {
     "databundleVersionId": 6475798,
     "sourceId": 60002,
     "sourceType": "competition"
    }
   ],
   "dockerImageVersionId": 30553,
   "isGpuEnabled": false,
   "isInternetEnabled": true,
   "language": "python",
   "sourceType": "notebook"
  },
  "kernelspec": {
   "display_name": "Python 3",
   "language": "python",
   "name": "python3"
  },
  "language_info": {
   "codemirror_mode": {
    "name": "ipython",
    "version": 3
   },
   "file_extension": ".py",
   "mimetype": "text/x-python",
   "name": "python",
   "nbconvert_exporter": "python",
   "pygments_lexer": "ipython3",
   "version": "3.12.2"
  }
 },
 "nbformat": 4,
 "nbformat_minor": 0
}

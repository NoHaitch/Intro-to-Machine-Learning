{
  "metadata": {
    "kernelspec": {
      "display_name": "Python 3",
      "name": "python3"
    },
    "language_info": {
      "name": "python",
      "version": "3.10.12",
      "mimetype": "text/x-python",
      "codemirror_mode": {
        "name": "ipython",
        "version": 3
      },
      "pygments_lexer": "ipython3",
      "nbconvert_exporter": "python",
      "file_extension": ".py"
    },
    "colab": {
      "provenance": [],
      "gpuType": "T4"
    },
    "accelerator": "GPU"
  },
  "nbformat_minor": 0,
  "nbformat": 4,
  "cells": [
    {
      "cell_type": "markdown",
      "source": [
        "# IF3270 Machine Learning | Praktikum\n",
        "\n",
        "This notebook serves as a template for the assignment. Please create a copy of this notebook to complete your work. You can add more code blocks, markdown blocks, or new sections if needed.\n"
      ],
      "metadata": {
        "id": "uR1JW69eLfG_"
      }
    },
    {
      "cell_type": "markdown",
      "source": [
        "Group Number: 50\n",
        "\n",
        "Group Members:\n",
        "- Bagas Sambega Rosyada (13522071)\n",
        "- Raden Francisco Trianto B. (13522091)"
      ],
      "metadata": {
        "id": "ucbaI5rBLtjJ"
      }
    },
    {
      "cell_type": "code",
      "source": [
        "import pandas as pd\n",
        "import numpy as np\n",
        "import matplotlib.pyplot as plt\n",
        "from sklearn.preprocessing import MinMaxScaler\n",
        "from sklearn.model_selection import train_test_split\n",
        "import tensorflow as tf\n",
        "from tensorflow.keras.models import Sequential\n",
        "from tensorflow.keras.layers import LSTM, Dense, Dropout\n",
        "from tensorflow.keras.callbacks import EarlyStopping, ReduceLROnPlateau"
      ],
      "metadata": {
        "id": "WRundoUp0_EJ"
      },
      "execution_count": null,
      "outputs": []
    },
    {
      "cell_type": "markdown",
      "source": [
        "### Download Data with gdown"
      ],
      "metadata": {
        "id": "pN_1q75WipY7"
      }
    },
    {
      "cell_type": "code",
      "source": [
        "!pip install gdown"
      ],
      "metadata": {
        "colab": {
          "base_uri": "https://localhost:8080/"
        },
        "id": "o-SKz80Erkcg",
        "outputId": "e5192bb4-e14d-4498-b00f-b8632e97c4ef"
      },
      "execution_count": null,
      "outputs": [
        {
          "output_type": "stream",
          "name": "stdout",
          "text": [
            "Requirement already satisfied: gdown in /usr/local/lib/python3.11/dist-packages (5.2.0)\n",
            "Requirement already satisfied: beautifulsoup4 in /usr/local/lib/python3.11/dist-packages (from gdown) (4.13.4)\n",
            "Requirement already satisfied: filelock in /usr/local/lib/python3.11/dist-packages (from gdown) (3.18.0)\n",
            "Requirement already satisfied: requests[socks] in /usr/local/lib/python3.11/dist-packages (from gdown) (2.32.3)\n",
            "Requirement already satisfied: tqdm in /usr/local/lib/python3.11/dist-packages (from gdown) (4.67.1)\n",
            "Requirement already satisfied: soupsieve>1.2 in /usr/local/lib/python3.11/dist-packages (from beautifulsoup4->gdown) (2.7)\n",
            "Requirement already satisfied: typing-extensions>=4.0.0 in /usr/local/lib/python3.11/dist-packages (from beautifulsoup4->gdown) (4.13.2)\n",
            "Requirement already satisfied: charset-normalizer<4,>=2 in /usr/local/lib/python3.11/dist-packages (from requests[socks]->gdown) (3.4.1)\n",
            "Requirement already satisfied: idna<4,>=2.5 in /usr/local/lib/python3.11/dist-packages (from requests[socks]->gdown) (3.10)\n",
            "Requirement already satisfied: urllib3<3,>=1.21.1 in /usr/local/lib/python3.11/dist-packages (from requests[socks]->gdown) (2.4.0)\n",
            "Requirement already satisfied: certifi>=2017.4.17 in /usr/local/lib/python3.11/dist-packages (from requests[socks]->gdown) (2025.4.26)\n",
            "Requirement already satisfied: PySocks!=1.5.7,>=1.5.6 in /usr/local/lib/python3.11/dist-packages (from requests[socks]->gdown) (1.7.1)\n"
          ]
        }
      ]
    },
    {
      "cell_type": "code",
      "source": [
        "import gdown\n",
        "url = \"https://drive.google.com/uc?export=download&id=1obePZndeoytAGeaB-T01nwjzF2xlGojM\"\n",
        "output = 'dataset.zip'\n",
        "gdown.download(url, output)"
      ],
      "metadata": {
        "colab": {
          "base_uri": "https://localhost:8080/",
          "height": 105
        },
        "id": "Box9PQW0r-9C",
        "outputId": "a5b10423-6302-4d25-9179-b61b3594657d"
      },
      "execution_count": null,
      "outputs": [
        {
          "output_type": "stream",
          "name": "stderr",
          "text": [
            "Downloading...\n",
            "From: https://drive.google.com/uc?export=download&id=1obePZndeoytAGeaB-T01nwjzF2xlGojM\n",
            "To: /content/dataset.zip\n",
            "100%|██████████| 47.2k/47.2k [00:00<00:00, 71.0MB/s]\n"
          ]
        },
        {
          "output_type": "execute_result",
          "data": {
            "text/plain": [
              "'dataset.zip'"
            ],
            "application/vnd.google.colaboratory.intrinsic+json": {
              "type": "string"
            }
          },
          "metadata": {},
          "execution_count": 3
        }
      ]
    },
    {
      "cell_type": "code",
      "source": [
        "!unzip dataset.zip"
      ],
      "metadata": {
        "colab": {
          "base_uri": "https://localhost:8080/"
        },
        "id": "T2mtoPS2sOOD",
        "outputId": "7be27769-80e8-42e3-b633-e13aab4cfa00"
      },
      "execution_count": null,
      "outputs": [
        {
          "output_type": "stream",
          "name": "stdout",
          "text": [
            "Archive:  dataset.zip\n",
            "  inflating: test.csv                \n",
            "  inflating: train.csv               \n"
          ]
        }
      ]
    },
    {
      "cell_type": "markdown",
      "source": [
        "## Import Libraries"
      ],
      "metadata": {
        "id": "GwzsfETHLfHA"
      }
    },
    {
      "cell_type": "code",
      "source": [
        "import pandas as pd\n",
        "import numpy as np"
      ],
      "metadata": {
        "id": "jZJU5W_4LfHB"
      },
      "execution_count": null,
      "outputs": []
    },
    {
      "cell_type": "markdown",
      "source": [
        "## Import Dataset"
      ],
      "metadata": {
        "id": "OKbjLIdYLfHC"
      }
    },
    {
      "cell_type": "code",
      "source": [
        "train_df = pd.read_csv('/content/train.csv')\n",
        "test_df = pd.read_csv('/content/test.csv')"
      ],
      "metadata": {
        "id": "-IWFJ-gdLfHD"
      },
      "execution_count": null,
      "outputs": []
    },
    {
      "cell_type": "markdown",
      "source": [
        "# 1. Exploratory Data Analysis\n",
        "\n",
        "Exploratory Data Analysis (EDA) is a crucial step in the data analysis process that involves examining and visualizing data sets to uncover patterns, trends, anomalies, and insights. It is the first step before applying more advanced statistical and machine learning techniques. EDA helps you to gain a deep understanding of the data you are working with, allowing you to make informed decisions and formulate hypotheses for further analysis. Use simple statistical analysis to get a grip on the used data"
      ],
      "metadata": {
        "id": "YdSor5sdIYGs"
      }
    },
    {
      "cell_type": "code",
      "source": [
        "print(\"Train Set Preview:\")\n",
        "print(train_df.head())\n",
        "\n",
        "print(\"\\Test Set Preview:\")\n",
        "print(test_df.head())\n",
        "\n",
        "print(\"\\nTrain Columns:\", train_df.columns)\n",
        "print(\"\\nTest Columns:\", test_df.columns)"
      ],
      "metadata": {
        "id": "bGiGPVYNIoWk",
        "colab": {
          "base_uri": "https://localhost:8080/"
        },
        "outputId": "b1428d39-a3c4-4a8b-d0e8-ab8172b57fa1"
      },
      "execution_count": null,
      "outputs": [
        {
          "output_type": "stream",
          "name": "stdout",
          "text": [
            "Train Set Preview:\n",
            "         time       h1\n",
            "0  2022-01-01  16853.0\n",
            "1  2022-01-02  14155.0\n",
            "2  2022-01-03  14439.0\n",
            "3  2022-01-04  11273.0\n",
            "4  2022-01-05  10750.0\n",
            "\\Test Set Preview:\n",
            "         time  h1\n",
            "0  2045-04-10   1\n",
            "1  2045-04-11   1\n",
            "2  2045-04-12   1\n",
            "3  2045-04-13   1\n",
            "4  2045-04-14   1\n",
            "\n",
            "Train Columns: Index(['time', 'h1'], dtype='object')\n",
            "\n",
            "Test Columns: Index(['time', 'h1'], dtype='object')\n"
          ]
        }
      ]
    },
    {
      "cell_type": "code",
      "source": [
        "import pandas as pd\n",
        "import matplotlib.pyplot as plt\n",
        "\n",
        "plt.figure(figsize=(10, 6))\n",
        "plt.hist(train_df['h1'], bins=50, color='skyblue', edgecolor='black')\n",
        "plt.title('Distribution of h1 Values in train.csv')\n",
        "plt.xlabel('h1')\n",
        "plt.ylabel('Frequency')\n",
        "plt.grid(True)\n",
        "plt.show()"
      ],
      "metadata": {
        "colab": {
          "base_uri": "https://localhost:8080/",
          "height": 502
        },
        "id": "lXrz72ftcKkn",
        "outputId": "a39df9cb-e1ab-4363-e569-9e5689a4bcd2"
      },
      "execution_count": null,
      "outputs": [
        {
          "output_type": "display_data",
          "data": {
            "text/plain": [
              "<Figure size 1000x600 with 1 Axes>"
            ],
            "image/png": "[encoded data removed]"
          },
          "metadata": {}
        }
      ]
    },
    {
      "cell_type": "markdown",
      "source": [
        "# 2. Split Training Set and Validation Set\n",
        "\n",
        "Splitting the training and validation set works as an early diagnostic towards the performance of the model we train. This is done before the preprocessing steps to **avoid data leakage inbetween the sets**. If you want to use k-fold cross-validation, split the data later and do the cleaning and preprocessing separately for each split."
      ],
      "metadata": {
        "id": "gvx-gT3bLfHM"
      }
    },
    {
      "cell_type": "code",
      "source": [
        "from sklearn.model_selection import train_test_split\n",
        "\n",
        "X = train_df['h1'].values  # or whatever the appropriate features are\n",
        "y = train_df['h1'].shift(-1).dropna().values  # predicting next h1\n",
        "\n"
      ],
      "metadata": {
        "id": "4yWCUFFBLfHM"
      },
      "execution_count": null,
      "outputs": []
    },
    {
      "cell_type": "markdown",
      "source": [
        "# 3. Data Cleaning and Preprocessing\n",
        "\n",
        "This step is the first thing to be done once a Data Scientist have grasped a general knowledge of the data. Raw data is **seldom ready for training**, therefore steps need to be taken to clean and format the data for the Machine Learning model to interpret.\n",
        "\n",
        "By performing data cleaning and preprocessing, you ensure that your dataset is ready for model training, leading to more accurate and reliable machine learning results. These steps are essential for transforming raw data into a format that machine learning algorithms can effectively learn from and make predictions.\n",
        "\n",
        "For each step that you will do, **please explain the reason why did you do that process. Write it in a markdown cell under the code cell you wrote.**"
      ],
      "metadata": {
        "id": "IC14lmo_LfHN"
      }
    },
    {
      "cell_type": "code",
      "source": [
        "# Check for missing values\n",
        "print(\"Missing in Train:\\n\", train_df.isnull().sum())\n",
        "print(\"Missing in Val:\\n\", test_df.isnull().sum())\n",
        "\n",
        "# Drop or fill\n",
        "train_df.dropna(inplace=True)\n",
        "test_df.dropna(inplace=True)\n"
      ],
      "metadata": {
        "id": "5rksSMAWICY_",
        "colab": {
          "base_uri": "https://localhost:8080/"
        },
        "outputId": "d666c755-0775-4fdb-fc2d-5732f1119f0b"
      },
      "execution_count": null,
      "outputs": [
        {
          "output_type": "stream",
          "name": "stdout",
          "text": [
            "Missing in Train:\n",
            " time    0\n",
            "h1      0\n",
            "dtype: int64\n",
            "Missing in Val:\n",
            " time    0\n",
            "h1      0\n",
            "dtype: int64\n"
          ]
        }
      ]
    },
    {
      "cell_type": "code",
      "source": [
        "if 'time' in train_df.columns:\n",
        "    train_df['time'] = pd.to_datetime(train_df['time'])\n",
        "    train_df.set_index('time', inplace=True)\n",
        "\n",
        "if 'time' in test_df.columns:\n",
        "    test_df['time'] = pd.to_datetime(test_df['time'])\n",
        "    test_df.set_index('time', inplace=True)"
      ],
      "metadata": {
        "id": "fzYcWxUmzVb9"
      },
      "execution_count": null,
      "outputs": []
    },
    {
      "cell_type": "code",
      "source": [
        "from sklearn.preprocessing import MinMaxScaler\n",
        "\n",
        "scaler = MinMaxScaler(feature_range=(0, 1))\n",
        "train_scaled = scaler.fit_transform(train_df[['h1']])\n",
        "test_scaled = scaler.transform(test_df[['h1']])"
      ],
      "metadata": {
        "id": "EEFpShX0s67C"
      },
      "execution_count": null,
      "outputs": []
    },
    {
      "cell_type": "code",
      "source": [
        "import numpy as np\n",
        "\n",
        "def create_sliding_window(data, time_steps=30, add_padding=False):\n",
        "    X, y = [], []\n",
        "\n",
        "    # For training data without padding\n",
        "    if not add_padding:\n",
        "        for i in range(len(data) - time_steps):\n",
        "            X.append(data[i:(i + time_steps), 0])\n",
        "            y.append(data[i + time_steps, 0])\n",
        "    # For test data with padding to preserve original length that went missing after creating sliding window\n",
        "    else:\n",
        "        # Add padding\n",
        "        padding = np.full((time_steps, 1), data[0, 0])\n",
        "        padded_data = np.vstack((padding, data))\n",
        "\n",
        "        # create sequences that include the padding\n",
        "        for i in range(len(data)):\n",
        "            X.append(padded_data[i:(i + time_steps), 0])\n",
        "            y.append(data[i, 0])  # The actual value\n",
        "\n",
        "    return np.array(X), np.array(y)\n",
        "\n",
        "def reshape_for_lstm(X):\n",
        "    return np.reshape(X, (X.shape[0], X.shape[1], 1))\n",
        "\n",
        "time_steps = 30  # can tune later\n",
        "X, y = create_sliding_window(train_scaled, time_steps)\n",
        "X_train, X_val, y_train, y_val = train_test_split(X, y, test_size=0.2, shuffle=False)\n",
        "X_train_lstm = reshape_for_lstm(X_train)\n",
        "X_val_lstm = reshape_for_lstm(X_val)\n",
        "X_test, y_test = create_sliding_window(test_scaled, time_steps, add_padding=True)\n"
      ],
      "metadata": {
        "id": "n2KkYkqXs7xs"
      },
      "execution_count": null,
      "outputs": []
    },
    {
      "cell_type": "code",
      "source": [
        "print(\"X_train shape:\", X_train.shape)\n",
        "print(\"y_train shape:\", y_train.shape)\n",
        "print(f\"Validation data shape: {X_val.shape}\")\n",
        "print(f\"Validation y shape: {y_val.shape}\")\n",
        "print(\"X_test shape:\", X_test.shape)\n",
        "print(\"y_test shape:\", y_test.shape)\n",
        "print(\"Test df shape:\", test_df.shape)"
      ],
      "metadata": {
        "colab": {
          "base_uri": "https://localhost:8080/"
        },
        "id": "lCSF9zuJtAca",
        "outputId": "1087730a-e02a-48ee-a312-a8aa514772d5"
      },
      "execution_count": null,
      "outputs": [
        {
          "output_type": "stream",
          "name": "stdout",
          "text": [
            "X_train shape: (6776, 30)\n",
            "y_train shape: (6776,)\n",
            "Validation data shape: (1694, 30)\n",
            "Validation y shape: (1694,)\n",
            "X_test shape: (1500, 30)\n",
            "y_test shape: (1500,)\n",
            "Test df shape: (1500, 1)\n"
          ]
        }
      ]
    },
    {
      "cell_type": "code",
      "source": [
        "def reshape_for_nn(X):\n",
        "    return np.reshape(X, (X.shape[0], X.shape[1], 1))"
      ],
      "metadata": {
        "id": "CDKx80jfXj7H"
      },
      "execution_count": null,
      "outputs": []
    },
    {
      "cell_type": "code",
      "source": [
        "X_train_reshaped = reshape_for_nn(X_train)\n",
        "X_val_reshaped = reshape_for_nn(X_val)\n",
        "X_test_reshaped = reshape_for_nn(X_test)"
      ],
      "metadata": {
        "id": "xDuM1sszXk1w"
      },
      "execution_count": null,
      "outputs": []
    },
    {
      "cell_type": "markdown",
      "source": [
        "# Compile Preprocessing Pipeline\n",
        "\n",
        "All of the preprocessing classes or functions defined earlier will be compiled in this step."
      ],
      "metadata": {
        "id": "-ctVzt5DLfHd"
      }
    },
    {
      "cell_type": "markdown",
      "source": [
        "If you use sklearn to create preprocessing classes, you can list your preprocessing classes in the Pipeline object sequentially, and then fit and transform your data."
      ],
      "metadata": {
        "id": "S_ZlncSVjJG6"
      }
    },
    {
      "cell_type": "code",
      "source": [
        "# We are not using any pipeline :)\n",
        "\n",
        "# from sklearn.pipeline import Pipeline\n",
        "\n",
        "# # Note: You can add or delete preprocessing components from this pipeline\n",
        "\n",
        "# pipe = Pipeline([(\"imputer\", FeatureImputer()),\n",
        "#                  (\"featurecreator\", FeatureCreator()),\n",
        "#                  (\"scaler\", FeatureScaler()),\n",
        "#                  (\"encoder\", FeatureEncoder())])\n",
        "\n",
        "# train_set = pipe.fit_transform(train_set)\n",
        "# val_set = pipe.transform(val_set)"
      ],
      "metadata": {
        "id": "jHraoW_7LfHd"
      },
      "execution_count": null,
      "outputs": []
    },
    {
      "cell_type": "markdown",
      "source": [
        "or create your own here"
      ],
      "metadata": {
        "id": "SXoCqMztjhr-"
      }
    },
    {
      "cell_type": "markdown",
      "source": [
        "# 4. Modeling and Validation\n",
        "\n",
        "Modeling is the process of building a machine learning model to solve a particular problem, or in the context of this task, predicting each value in time. Validation is the process of evaluating your trained model using the validation set or cross-validation method and providing some metrics that can help you decide what to do in the next iteration of development."
      ],
      "metadata": {
        "id": "9A3adbZXLfHe"
      }
    },
    {
      "cell_type": "code",
      "source": [
        "time_steps = 30  # Window size\n",
        "batch_size = 32\n",
        "epochs = 10"
      ],
      "metadata": {
        "id": "BfJ0r_Rg0xJg"
      },
      "execution_count": null,
      "outputs": []
    },
    {
      "cell_type": "code",
      "source": [
        "def inverse_transform_predictions(predictions):\n",
        "    # Reshape predictions to match scaler input shape\n",
        "    predictions_reshaped = predictions.reshape(-1, 1)\n",
        "    # Inverse transform\n",
        "    return scaler.inverse_transform(predictions_reshaped)"
      ],
      "metadata": {
        "id": "qCM_TMmu0soa"
      },
      "execution_count": null,
      "outputs": []
    },
    {
      "cell_type": "code",
      "source": [
        "callbacks = [\n",
        "    # Stop training when validation loss stops improving\n",
        "    EarlyStopping(\n",
        "        monitor='val_loss',\n",
        "        patience=15,\n",
        "        restore_best_weights=True\n",
        "    ),\n",
        "    ReduceLROnPlateau(\n",
        "        monitor='val_loss',\n",
        "        factor=0.5,\n",
        "        patience=5,\n",
        "        min_lr=0.0001\n",
        "    )\n",
        "]\n"
      ],
      "metadata": {
        "id": "NYwNvn1H1F1Q"
      },
      "execution_count": null,
      "outputs": []
    },
    {
      "cell_type": "markdown",
      "source": [
        "## 4.1 Recurrent Neural Network\n",
        "\n",
        "You need to build and compare two models:\n",
        "- Build your own model with RNN architecture using PyTorch/Tensorflow.\n",
        "- Build your own model with LSTM architecture using PyTorch/Tensorflow.\n"
      ],
      "metadata": {
        "id": "cRWB1ua4pvYu"
      }
    },
    {
      "cell_type": "markdown",
      "source": [
        "### 4.1.1 Build Your Own Model (RNN)"
      ],
      "metadata": {
        "id": "h49yUXXbqmfV"
      }
    },
    {
      "cell_type": "code",
      "source": [
        "from tensorflow.keras.models import Sequential\n",
        "from tensorflow.keras.layers import SimpleRNN, Dense, Input\n",
        "\n",
        "def build_rnn_model(time_steps, features=1):\n",
        "  rnn_model = Sequential([\n",
        "      # Input(shape=(X_train.shape[1], X_train.shape[2])),\n",
        "      SimpleRNN(64, activation='tanh', input_shape=(time_steps, features)),\n",
        "      Dense(1)  # regression output\n",
        "  ])\n",
        "\n",
        "  rnn_model.compile(optimizer='adam', loss='mse', metrics=['mae'])\n",
        "  rnn_model.summary()\n",
        "  return rnn_model"
      ],
      "metadata": {
        "id": "Lh9n6lcqTyRI"
      },
      "execution_count": null,
      "outputs": []
    },
    {
      "cell_type": "code",
      "source": [
        "rnn_model = build_rnn_model(time_steps)\n",
        "rnn_history = rnn_model.fit(\n",
        "    X_train, y_train,\n",
        "    validation_data=(X_val, y_val),\n",
        "    epochs=epochs,\n",
        "    batch_size=batch_size,\n",
        "    callbacks=callbacks,\n",
        "    verbose=1\n",
        ")"
      ],
      "metadata": {
        "colab": {
          "base_uri": "https://localhost:8080/",
          "height": 606
        },
        "id": "2H7WTFEdthKm",
        "outputId": "f91c154b-7556-42e5-a7c6-7c46ead35ab3"
      },
      "execution_count": null,
      "outputs": [
        {
          "output_type": "stream",
          "name": "stderr",
          "text": [
            "/usr/local/lib/python3.11/dist-packages/keras/src/layers/rnn/rnn.py:200: UserWarning: Do not pass an `input_shape`/`input_dim` argument to a layer. When using Sequential models, prefer using an `Input(shape)` object as the first layer in the model instead.\n",
            "  super().__init__(**kwargs)\n"
          ]
        },
        {
          "output_type": "display_data",
          "data": {
            "text/plain": [
              "\u001b[1mModel: \"sequential_4\"\u001b[0m\n"
            ],
            "text/html": [
              "<pre style=\"white-space:pre;overflow-x:auto;line-height:normal;font-family:Menlo,'DejaVu Sans Mono',consolas,'Courier New',monospace\"><span style=\"font-weight: bold\">Model: \"sequential_4\"</span>\n",
              "</pre>\n"
            ]
          },
          "metadata": {}
        },
        {
          "output_type": "display_data",
          "data": {
            "text/plain": [
              "┏━━━━━━━━━━━━━━━━━━━━━━━━━━━━━━━━━┳━━━━━━━━━━━━━━━━━━━━━━━━┳━━━━━━━━━━━━━━━┓\n",
              "┃\u001b[1m \u001b[0m\u001b[1mLayer (type)                   \u001b[0m\u001b[1m \u001b[0m┃\u001b[1m \u001b[0m\u001b[1mOutput Shape          \u001b[0m\u001b[1m \u001b[0m┃\u001b[1m \u001b[0m\u001b[1m      Param #\u001b[0m\u001b[1m \u001b[0m┃\n",
              "┡━━━━━━━━━━━━━━━━━━━━━━━━━━━━━━━━━╇━━━━━━━━━━━━━━━━━━━━━━━━╇━━━━━━━━━━━━━━━┩\n",
              "│ simple_rnn_2 (\u001b[38;5;33mSimpleRNN\u001b[0m)        │ (\u001b[38;5;45mNone\u001b[0m, \u001b[38;5;34m64\u001b[0m)             │         \u001b[38;5;34m4,224\u001b[0m │\n",
              "├─────────────────────────────────┼────────────────────────┼───────────────┤\n",
              "│ dense_4 (\u001b[38;5;33mDense\u001b[0m)                 │ (\u001b[38;5;45mNone\u001b[0m, \u001b[38;5;34m1\u001b[0m)              │            \u001b[38;5;34m65\u001b[0m │\n",
              "└─────────────────────────────────┴────────────────────────┴───────────────┘\n"
            ],
            "text/html": [
              "<pre style=\"white-space:pre;overflow-x:auto;line-height:normal;font-family:Menlo,'DejaVu Sans Mono',consolas,'Courier New',monospace\">┏━━━━━━━━━━━━━━━━━━━━━━━━━━━━━━━━━┳━━━━━━━━━━━━━━━━━━━━━━━━┳━━━━━━━━━━━━━━━┓\n",
              "┃<span style=\"font-weight: bold\"> Layer (type)                    </span>┃<span style=\"font-weight: bold\"> Output Shape           </span>┃<span style=\"font-weight: bold\">       Param # </span>┃\n",
              "┡━━━━━━━━━━━━━━━━━━━━━━━━━━━━━━━━━╇━━━━━━━━━━━━━━━━━━━━━━━━╇━━━━━━━━━━━━━━━┩\n",
              "│ simple_rnn_2 (<span style=\"color: #0087ff; text-decoration-color: #0087ff\">SimpleRNN</span>)        │ (<span style=\"color: #00d7ff; text-decoration-color: #00d7ff\">None</span>, <span style=\"color: #00af00; text-decoration-color: #00af00\">64</span>)             │         <span style=\"color: #00af00; text-decoration-color: #00af00\">4,224</span> │\n",
              "├─────────────────────────────────┼────────────────────────┼───────────────┤\n",
              "│ dense_4 (<span style=\"color: #0087ff; text-decoration-color: #0087ff\">Dense</span>)                 │ (<span style=\"color: #00d7ff; text-decoration-color: #00d7ff\">None</span>, <span style=\"color: #00af00; text-decoration-color: #00af00\">1</span>)              │            <span style=\"color: #00af00; text-decoration-color: #00af00\">65</span> │\n",
              "└─────────────────────────────────┴────────────────────────┴───────────────┘\n",
              "</pre>\n"
            ]
          },
          "metadata": {}
        },
        {
          "output_type": "display_data",
          "data": {
            "text/plain": [
              "\u001b[1m Total params: \u001b[0m\u001b[38;5;34m4,289\u001b[0m (16.75 KB)\n"
            ],
            "text/html": [
              "<pre style=\"white-space:pre;overflow-x:auto;line-height:normal;font-family:Menlo,'DejaVu Sans Mono',consolas,'Courier New',monospace\"><span style=\"font-weight: bold\"> Total params: </span><span style=\"color: #00af00; text-decoration-color: #00af00\">4,289</span> (16.75 KB)\n",
              "</pre>\n"
            ]
          },
          "metadata": {}
        },
        {
          "output_type": "display_data",
          "data": {
            "text/plain": [
              "\u001b[1m Trainable params: \u001b[0m\u001b[38;5;34m4,289\u001b[0m (16.75 KB)\n"
            ],
            "text/html": [
              "<pre style=\"white-space:pre;overflow-x:auto;line-height:normal;font-family:Menlo,'DejaVu Sans Mono',consolas,'Courier New',monospace\"><span style=\"font-weight: bold\"> Trainable params: </span><span style=\"color: #00af00; text-decoration-color: #00af00\">4,289</span> (16.75 KB)\n",
              "</pre>\n"
            ]
          },
          "metadata": {}
        },
        {
          "output_type": "display_data",
          "data": {
            "text/plain": [
              "\u001b[1m Non-trainable params: \u001b[0m\u001b[38;5;34m0\u001b[0m (0.00 B)\n"
            ],
            "text/html": [
              "<pre style=\"white-space:pre;overflow-x:auto;line-height:normal;font-family:Menlo,'DejaVu Sans Mono',consolas,'Courier New',monospace\"><span style=\"font-weight: bold\"> Non-trainable params: </span><span style=\"color: #00af00; text-decoration-color: #00af00\">0</span> (0.00 B)\n",
              "</pre>\n"
            ]
          },
          "metadata": {}
        },
        {
          "output_type": "stream",
          "name": "stdout",
          "text": [
            "Epoch 1/10\n",
            "\u001b[1m212/212\u001b[0m \u001b[32m━━━━━━━━━━━━━━━━━━━━\u001b[0m\u001b[37m\u001b[0m \u001b[1m4s\u001b[0m 11ms/step - loss: 0.0159 - mae: 0.0657 - val_loss: 6.8713e-04 - val_mae: 0.0099 - learning_rate: 0.0010\n",
            "Epoch 2/10\n",
            "\u001b[1m212/212\u001b[0m \u001b[32m━━━━━━━━━━━━━━━━━━━━\u001b[0m\u001b[37m\u001b[0m \u001b[1m3s\u001b[0m 5ms/step - loss: 0.0017 - mae: 0.0235 - val_loss: 5.6397e-04 - val_mae: 0.0088 - learning_rate: 0.0010\n",
            "Epoch 3/10\n",
            "\u001b[1m212/212\u001b[0m \u001b[32m━━━━━━━━━━━━━━━━━━━━\u001b[0m\u001b[37m\u001b[0m \u001b[1m1s\u001b[0m 4ms/step - loss: 0.0013 - mae: 0.0203 - val_loss: 5.4651e-04 - val_mae: 0.0086 - learning_rate: 0.0010\n",
            "Epoch 4/10\n",
            "\u001b[1m212/212\u001b[0m \u001b[32m━━━━━━━━━━━━━━━━━━━━\u001b[0m\u001b[37m\u001b[0m \u001b[1m1s\u001b[0m 4ms/step - loss: 0.0012 - mae: 0.0198 - val_loss: 5.1493e-04 - val_mae: 0.0083 - learning_rate: 0.0010\n",
            "Epoch 5/10\n",
            "\u001b[1m212/212\u001b[0m \u001b[32m━━━━━━━━━━━━━━━━━━━━\u001b[0m\u001b[37m\u001b[0m \u001b[1m1s\u001b[0m 5ms/step - loss: 0.0013 - mae: 0.0205 - val_loss: 4.9403e-04 - val_mae: 0.0081 - learning_rate: 0.0010\n",
            "Epoch 6/10\n",
            "\u001b[1m212/212\u001b[0m \u001b[32m━━━━━━━━━━━━━━━━━━━━\u001b[0m\u001b[37m\u001b[0m \u001b[1m1s\u001b[0m 5ms/step - loss: 0.0012 - mae: 0.0194 - val_loss: 4.7367e-04 - val_mae: 0.0083 - learning_rate: 0.0010\n",
            "Epoch 7/10\n",
            "\u001b[1m212/212\u001b[0m \u001b[32m━━━━━━━━━━━━━━━━━━━━\u001b[0m\u001b[37m\u001b[0m \u001b[1m1s\u001b[0m 4ms/step - loss: 0.0011 - mae: 0.0197 - val_loss: 4.8006e-04 - val_mae: 0.0080 - learning_rate: 0.0010\n",
            "Epoch 8/10\n",
            "\u001b[1m212/212\u001b[0m \u001b[32m━━━━━━━━━━━━━━━━━━━━\u001b[0m\u001b[37m\u001b[0m \u001b[1m1s\u001b[0m 4ms/step - loss: 0.0013 - mae: 0.0196 - val_loss: 4.8203e-04 - val_mae: 0.0079 - learning_rate: 5.0000e-04\n",
            "Epoch 9/10\n",
            "\u001b[1m212/212\u001b[0m \u001b[32m━━━━━━━━━━━━━━━━━━━━\u001b[0m\u001b[37m\u001b[0m \u001b[1m1s\u001b[0m 4ms/step - loss: 0.0013 - mae: 0.0195 - val_loss: 4.9618e-04 - val_mae: 0.0081 - learning_rate: 5.0000e-04\n",
            "Epoch 10/10\n",
            "\u001b[1m212/212\u001b[0m \u001b[32m━━━━━━━━━━━━━━━━━━━━\u001b[0m\u001b[37m\u001b[0m \u001b[1m1s\u001b[0m 4ms/step - loss: 0.0012 - mae: 0.0194 - val_loss: 4.7518e-04 - val_mae: 0.0079 - learning_rate: 5.0000e-04\n"
          ]
        }
      ]
    },
    {
      "cell_type": "code",
      "source": [
        "rnn_predictions = rnn_model.predict(X_test)\n",
        "rnn_predictions = inverse_transform_predictions(rnn_predictions).flatten()"
      ],
      "metadata": {
        "colab": {
          "base_uri": "https://localhost:8080/"
        },
        "id": "fEidKL4z0mnt",
        "outputId": "85c19823-195e-4652-8ff0-1358e49629ce"
      },
      "execution_count": null,
      "outputs": [
        {
          "output_type": "stream",
          "name": "stdout",
          "text": [
            "\u001b[1m47/47\u001b[0m \u001b[32m━━━━━━━━━━━━━━━━━━━━\u001b[0m\u001b[37m\u001b[0m \u001b[1m1s\u001b[0m 11ms/step\n"
          ]
        }
      ]
    },
    {
      "cell_type": "code",
      "source": [
        "print(rnn_predictions)"
      ],
      "metadata": {
        "colab": {
          "base_uri": "https://localhost:8080/"
        },
        "id": "JHo2lqqo200a",
        "outputId": "8b5002fb-818c-4ba5-c574-a98437774d99"
      },
      "execution_count": null,
      "outputs": [
        {
          "output_type": "stream",
          "name": "stdout",
          "text": [
            "[473.9496 473.9496 473.9496 ... 473.9496 473.9496 473.9496]\n"
          ]
        }
      ]
    },
    {
      "cell_type": "code",
      "source": [
        "import matplotlib.pyplot as plt\n",
        "\n",
        "plt.plot(rnn_history.history['loss'], label='Train Loss')\n",
        "plt.plot(rnn_history.history['val_loss'], label='Val Loss')\n",
        "plt.xlabel('Epochs')\n",
        "plt.ylabel('MSE Loss')\n",
        "plt.legend()\n",
        "plt.title('Training and Validation Loss')\n",
        "plt.show()"
      ],
      "metadata": {
        "id": "eKRQM7l_tlNP",
        "colab": {
          "base_uri": "https://localhost:8080/",
          "height": 472
        },
        "outputId": "fb99417c-77b5-44aa-f83e-608137221fd7"
      },
      "execution_count": null,
      "outputs": [
        {
          "output_type": "display_data",
          "data": {
            "text/plain": [
              "<Figure size 640x480 with 1 Axes>"
            ],
            "image/png": "[encoded data removed]"
          },
          "metadata": {}
        }
      ]
    },
    {
      "cell_type": "markdown",
      "source": [
        "### 4.1.2 Build Your Own Model (LSTM)"
      ],
      "metadata": {
        "id": "2jK7JcDorGpt"
      }
    },
    {
      "cell_type": "code",
      "source": [
        "def build_lstm_model(time_steps, features=1):\n",
        "    model = Sequential([\n",
        "        # First LSTM layer\n",
        "        LSTM(128, activation='relu', return_sequences=True,\n",
        "             input_shape=(time_steps, features)),\n",
        "        Dropout(0.3),  # Prevent overfitting\n",
        "\n",
        "        # Second LSTM layer\n",
        "        LSTM(64, activation='relu'),\n",
        "        Dropout(0.3),\n",
        "\n",
        "        # Output layer\n",
        "        Dense(1)\n",
        "    ])\n",
        "\n",
        "    # Compile model with Adam optimizer and MSE loss\n",
        "    model.compile(\n",
        "        optimizer=tf.keras.optimizers.Adam(learning_rate=0.0005),\n",
        "        loss='mse',\n",
        "        metrics=['mae']\n",
        "    )\n",
        "\n",
        "    return model\n"
      ],
      "metadata": {
        "id": "k_-RGnwJTxvR"
      },
      "execution_count": null,
      "outputs": []
    },
    {
      "cell_type": "code",
      "source": [
        "lstm_model = build_lstm_model(time_steps)\n",
        "lstm_model.summary()"
      ],
      "metadata": {
        "id": "yg0zFOV344ox",
        "colab": {
          "base_uri": "https://localhost:8080/",
          "height": 361
        },
        "outputId": "3f3dbdbe-b0e2-4504-c510-631c1f03de7c"
      },
      "execution_count": null,
      "outputs": [
        {
          "output_type": "stream",
          "name": "stderr",
          "text": [
            "/usr/local/lib/python3.11/dist-packages/keras/src/layers/rnn/rnn.py:200: UserWarning: Do not pass an `input_shape`/`input_dim` argument to a layer. When using Sequential models, prefer using an `Input(shape)` object as the first layer in the model instead.\n",
            "  super().__init__(**kwargs)\n"
          ]
        },
        {
          "output_type": "display_data",
          "data": {
            "text/plain": [
              "\u001b[1mModel: \"sequential_5\"\u001b[0m\n"
            ],
            "text/html": [
              "<pre style=\"white-space:pre;overflow-x:auto;line-height:normal;font-family:Menlo,'DejaVu Sans Mono',consolas,'Courier New',monospace\"><span style=\"font-weight: bold\">Model: \"sequential_5\"</span>\n",
              "</pre>\n"
            ]
          },
          "metadata": {}
        },
        {
          "output_type": "display_data",
          "data": {
            "text/plain": [
              "┏━━━━━━━━━━━━━━━━━━━━━━━━━━━━━━━━━┳━━━━━━━━━━━━━━━━━━━━━━━━┳━━━━━━━━━━━━━━━┓\n",
              "┃\u001b[1m \u001b[0m\u001b[1mLayer (type)                   \u001b[0m\u001b[1m \u001b[0m┃\u001b[1m \u001b[0m\u001b[1mOutput Shape          \u001b[0m\u001b[1m \u001b[0m┃\u001b[1m \u001b[0m\u001b[1m      Param #\u001b[0m\u001b[1m \u001b[0m┃\n",
              "┡━━━━━━━━━━━━━━━━━━━━━━━━━━━━━━━━━╇━━━━━━━━━━━━━━━━━━━━━━━━╇━━━━━━━━━━━━━━━┩\n",
              "│ lstm_4 (\u001b[38;5;33mLSTM\u001b[0m)                   │ (\u001b[38;5;45mNone\u001b[0m, \u001b[38;5;34m30\u001b[0m, \u001b[38;5;34m128\u001b[0m)        │        \u001b[38;5;34m66,560\u001b[0m │\n",
              "├─────────────────────────────────┼────────────────────────┼───────────────┤\n",
              "│ dropout_4 (\u001b[38;5;33mDropout\u001b[0m)             │ (\u001b[38;5;45mNone\u001b[0m, \u001b[38;5;34m30\u001b[0m, \u001b[38;5;34m128\u001b[0m)        │             \u001b[38;5;34m0\u001b[0m │\n",
              "├─────────────────────────────────┼────────────────────────┼───────────────┤\n",
              "│ lstm_5 (\u001b[38;5;33mLSTM\u001b[0m)                   │ (\u001b[38;5;45mNone\u001b[0m, \u001b[38;5;34m64\u001b[0m)             │        \u001b[38;5;34m49,408\u001b[0m │\n",
              "├─────────────────────────────────┼────────────────────────┼───────────────┤\n",
              "│ dropout_5 (\u001b[38;5;33mDropout\u001b[0m)             │ (\u001b[38;5;45mNone\u001b[0m, \u001b[38;5;34m64\u001b[0m)             │             \u001b[38;5;34m0\u001b[0m │\n",
              "├─────────────────────────────────┼────────────────────────┼───────────────┤\n",
              "│ dense_5 (\u001b[38;5;33mDense\u001b[0m)                 │ (\u001b[38;5;45mNone\u001b[0m, \u001b[38;5;34m1\u001b[0m)              │            \u001b[38;5;34m65\u001b[0m │\n",
              "└─────────────────────────────────┴────────────────────────┴───────────────┘\n"
            ],
            "text/html": [
              "<pre style=\"white-space:pre;overflow-x:auto;line-height:normal;font-family:Menlo,'DejaVu Sans Mono',consolas,'Courier New',monospace\">┏━━━━━━━━━━━━━━━━━━━━━━━━━━━━━━━━━┳━━━━━━━━━━━━━━━━━━━━━━━━┳━━━━━━━━━━━━━━━┓\n",
              "┃<span style=\"font-weight: bold\"> Layer (type)                    </span>┃<span style=\"font-weight: bold\"> Output Shape           </span>┃<span style=\"font-weight: bold\">       Param # </span>┃\n",
              "┡━━━━━━━━━━━━━━━━━━━━━━━━━━━━━━━━━╇━━━━━━━━━━━━━━━━━━━━━━━━╇━━━━━━━━━━━━━━━┩\n",
              "│ lstm_4 (<span style=\"color: #0087ff; text-decoration-color: #0087ff\">LSTM</span>)                   │ (<span style=\"color: #00d7ff; text-decoration-color: #00d7ff\">None</span>, <span style=\"color: #00af00; text-decoration-color: #00af00\">30</span>, <span style=\"color: #00af00; text-decoration-color: #00af00\">128</span>)        │        <span style=\"color: #00af00; text-decoration-color: #00af00\">66,560</span> │\n",
              "├─────────────────────────────────┼────────────────────────┼───────────────┤\n",
              "│ dropout_4 (<span style=\"color: #0087ff; text-decoration-color: #0087ff\">Dropout</span>)             │ (<span style=\"color: #00d7ff; text-decoration-color: #00d7ff\">None</span>, <span style=\"color: #00af00; text-decoration-color: #00af00\">30</span>, <span style=\"color: #00af00; text-decoration-color: #00af00\">128</span>)        │             <span style=\"color: #00af00; text-decoration-color: #00af00\">0</span> │\n",
              "├─────────────────────────────────┼────────────────────────┼───────────────┤\n",
              "│ lstm_5 (<span style=\"color: #0087ff; text-decoration-color: #0087ff\">LSTM</span>)                   │ (<span style=\"color: #00d7ff; text-decoration-color: #00d7ff\">None</span>, <span style=\"color: #00af00; text-decoration-color: #00af00\">64</span>)             │        <span style=\"color: #00af00; text-decoration-color: #00af00\">49,408</span> │\n",
              "├─────────────────────────────────┼────────────────────────┼───────────────┤\n",
              "│ dropout_5 (<span style=\"color: #0087ff; text-decoration-color: #0087ff\">Dropout</span>)             │ (<span style=\"color: #00d7ff; text-decoration-color: #00d7ff\">None</span>, <span style=\"color: #00af00; text-decoration-color: #00af00\">64</span>)             │             <span style=\"color: #00af00; text-decoration-color: #00af00\">0</span> │\n",
              "├─────────────────────────────────┼────────────────────────┼───────────────┤\n",
              "│ dense_5 (<span style=\"color: #0087ff; text-decoration-color: #0087ff\">Dense</span>)                 │ (<span style=\"color: #00d7ff; text-decoration-color: #00d7ff\">None</span>, <span style=\"color: #00af00; text-decoration-color: #00af00\">1</span>)              │            <span style=\"color: #00af00; text-decoration-color: #00af00\">65</span> │\n",
              "└─────────────────────────────────┴────────────────────────┴───────────────┘\n",
              "</pre>\n"
            ]
          },
          "metadata": {}
        },
        {
          "output_type": "display_data",
          "data": {
            "text/plain": [
              "\u001b[1m Total params: \u001b[0m\u001b[38;5;34m116,033\u001b[0m (453.25 KB)\n"
            ],
            "text/html": [
              "<pre style=\"white-space:pre;overflow-x:auto;line-height:normal;font-family:Menlo,'DejaVu Sans Mono',consolas,'Courier New',monospace\"><span style=\"font-weight: bold\"> Total params: </span><span style=\"color: #00af00; text-decoration-color: #00af00\">116,033</span> (453.25 KB)\n",
              "</pre>\n"
            ]
          },
          "metadata": {}
        },
        {
          "output_type": "display_data",
          "data": {
            "text/plain": [
              "\u001b[1m Trainable params: \u001b[0m\u001b[38;5;34m116,033\u001b[0m (453.25 KB)\n"
            ],
            "text/html": [
              "<pre style=\"white-space:pre;overflow-x:auto;line-height:normal;font-family:Menlo,'DejaVu Sans Mono',consolas,'Courier New',monospace\"><span style=\"font-weight: bold\"> Trainable params: </span><span style=\"color: #00af00; text-decoration-color: #00af00\">116,033</span> (453.25 KB)\n",
              "</pre>\n"
            ]
          },
          "metadata": {}
        },
        {
          "output_type": "display_data",
          "data": {
            "text/plain": [
              "\u001b[1m Non-trainable params: \u001b[0m\u001b[38;5;34m0\u001b[0m (0.00 B)\n"
            ],
            "text/html": [
              "<pre style=\"white-space:pre;overflow-x:auto;line-height:normal;font-family:Menlo,'DejaVu Sans Mono',consolas,'Courier New',monospace\"><span style=\"font-weight: bold\"> Non-trainable params: </span><span style=\"color: #00af00; text-decoration-color: #00af00\">0</span> (0.00 B)\n",
              "</pre>\n"
            ]
          },
          "metadata": {}
        }
      ]
    },
    {
      "cell_type": "code",
      "source": [
        "# Train the model\n",
        "lstm_history = lstm_model.fit(\n",
        "    X_train_lstm, y_train,\n",
        "    validation_data=(X_val_lstm, y_val),\n",
        "    epochs=15,\n",
        "    batch_size=batch_size,\n",
        "    callbacks=callbacks,\n",
        "    verbose=1,\n",
        "    shuffle=False\n",
        ")"
      ],
      "metadata": {
        "id": "_cyi9ke049b2",
        "colab": {
          "base_uri": "https://localhost:8080/"
        },
        "outputId": "4d32462f-8f2a-4e43-c939-980157814be9"
      },
      "execution_count": null,
      "outputs": [
        {
          "output_type": "stream",
          "name": "stdout",
          "text": [
            "Epoch 1/15\n"
          ]
        },
        {
          "output_type": "stream",
          "name": "stderr",
          "text": [
            "Exception ignored in: <function _xla_gc_callback at 0x79d47f4d4fe0>\n",
            "Traceback (most recent call last):\n",
            "  File \"/usr/local/lib/python3.11/dist-packages/jax/_src/lib/__init__.py\", line 96, in _xla_gc_callback\n",
            "    def _xla_gc_callback(*args):\n",
            "    \n",
            "KeyboardInterrupt: \n"
          ]
        },
        {
          "output_type": "stream",
          "name": "stdout",
          "text": [
            "\u001b[1m212/212\u001b[0m \u001b[32m━━━━━━━━━━━━━━━━━━━━\u001b[0m\u001b[37m\u001b[0m \u001b[1m28s\u001b[0m 25ms/step - loss: 0.0106 - mae: 0.0600 - val_loss: 0.0331 - val_mae: 0.0806 - learning_rate: 5.0000e-04\n",
            "Epoch 2/15\n",
            "\u001b[1m212/212\u001b[0m \u001b[32m━━━━━━━━━━━━━━━━━━━━\u001b[0m\u001b[37m\u001b[0m \u001b[1m5s\u001b[0m 9ms/step - loss: 0.0091 - mae: 0.0582 - val_loss: 0.0244 - val_mae: 0.0678 - learning_rate: 5.0000e-04\n",
            "Epoch 3/15\n",
            "\u001b[1m212/212\u001b[0m \u001b[32m━━━━━━━━━━━━━━━━━━━━\u001b[0m\u001b[37m\u001b[0m \u001b[1m2s\u001b[0m 8ms/step - loss: 0.0077 - mae: 0.0560 - val_loss: 0.0081 - val_mae: 0.0415 - learning_rate: 5.0000e-04\n",
            "Epoch 4/15\n",
            "\u001b[1m212/212\u001b[0m \u001b[32m━━━━━━━━━━━━━━━━━━━━\u001b[0m\u001b[37m\u001b[0m \u001b[1m2s\u001b[0m 8ms/step - loss: 0.0049 - mae: 0.0464 - val_loss: 0.0042 - val_mae: 0.0290 - learning_rate: 5.0000e-04\n",
            "Epoch 5/15\n",
            "\u001b[1m212/212\u001b[0m \u001b[32m━━━━━━━━━━━━━━━━━━━━\u001b[0m\u001b[37m\u001b[0m \u001b[1m2s\u001b[0m 8ms/step - loss: 0.0040 - mae: 0.0408 - val_loss: 0.0028 - val_mae: 0.0198 - learning_rate: 5.0000e-04\n",
            "Epoch 6/15\n",
            "\u001b[1m212/212\u001b[0m \u001b[32m━━━━━━━━━━━━━━━━━━━━\u001b[0m\u001b[37m\u001b[0m \u001b[1m2s\u001b[0m 8ms/step - loss: 0.0038 - mae: 0.0383 - val_loss: 0.0037 - val_mae: 0.0241 - learning_rate: 5.0000e-04\n",
            "Epoch 7/15\n",
            "\u001b[1m212/212\u001b[0m \u001b[32m━━━━━━━━━━━━━━━━━━━━\u001b[0m\u001b[37m\u001b[0m \u001b[1m3s\u001b[0m 9ms/step - loss: 0.0038 - mae: 0.0379 - val_loss: 0.0039 - val_mae: 0.0259 - learning_rate: 5.0000e-04\n",
            "Epoch 8/15\n",
            "\u001b[1m212/212\u001b[0m \u001b[32m━━━━━━━━━━━━━━━━━━━━\u001b[0m\u001b[37m\u001b[0m \u001b[1m2s\u001b[0m 9ms/step - loss: 0.0039 - mae: 0.0413 - val_loss: 0.0033 - val_mae: 0.0232 - learning_rate: 5.0000e-04\n",
            "Epoch 9/15\n",
            "\u001b[1m212/212\u001b[0m \u001b[32m━━━━━━━━━━━━━━━━━━━━\u001b[0m\u001b[37m\u001b[0m \u001b[1m2s\u001b[0m 8ms/step - loss: 0.0038 - mae: 0.0396 - val_loss: 0.0040 - val_mae: 0.0257 - learning_rate: 5.0000e-04\n",
            "Epoch 10/15\n",
            "\u001b[1m212/212\u001b[0m \u001b[32m━━━━━━━━━━━━━━━━━━━━\u001b[0m\u001b[37m\u001b[0m \u001b[1m3s\u001b[0m 9ms/step - loss: 0.0038 - mae: 0.0405 - val_loss: 0.0029 - val_mae: 0.0233 - learning_rate: 5.0000e-04\n",
            "Epoch 11/15\n",
            "\u001b[1m212/212\u001b[0m \u001b[32m━━━━━━━━━━━━━━━━━━━━\u001b[0m\u001b[37m\u001b[0m \u001b[1m2s\u001b[0m 8ms/step - loss: 0.0038 - mae: 0.0433 - val_loss: 0.0020 - val_mae: 0.0173 - learning_rate: 2.5000e-04\n",
            "Epoch 12/15\n",
            "\u001b[1m212/212\u001b[0m \u001b[32m━━━━━━━━━━━━━━━━━━━━\u001b[0m\u001b[37m\u001b[0m \u001b[1m2s\u001b[0m 9ms/step - loss: 0.0035 - mae: 0.0387 - val_loss: 0.0025 - val_mae: 0.0203 - learning_rate: 2.5000e-04\n",
            "Epoch 13/15\n",
            "\u001b[1m212/212\u001b[0m \u001b[32m━━━━━━━━━━━━━━━━━━━━\u001b[0m\u001b[37m\u001b[0m \u001b[1m3s\u001b[0m 9ms/step - loss: 0.0035 - mae: 0.0390 - val_loss: 0.0024 - val_mae: 0.0240 - learning_rate: 2.5000e-04\n",
            "Epoch 14/15\n",
            "\u001b[1m212/212\u001b[0m \u001b[32m━━━━━━━━━━━━━━━━━━━━\u001b[0m\u001b[37m\u001b[0m \u001b[1m2s\u001b[0m 8ms/step - loss: 0.0036 - mae: 0.0392 - val_loss: 0.0022 - val_mae: 0.0215 - learning_rate: 2.5000e-04\n",
            "Epoch 15/15\n",
            "\u001b[1m212/212\u001b[0m \u001b[32m━━━━━━━━━━━━━━━━━━━━\u001b[0m\u001b[37m\u001b[0m \u001b[1m2s\u001b[0m 8ms/step - loss: 0.0034 - mae: 0.0378 - val_loss: 0.0020 - val_mae: 0.0220 - learning_rate: 2.5000e-04\n"
          ]
        }
      ]
    },
    {
      "cell_type": "code",
      "source": [
        "\n",
        "plt.figure(figsize=(12, 6))\n",
        "plt.subplot(1, 2, 1)\n",
        "plt.plot(lstm_history.history['loss'], label='Train Loss')\n",
        "plt.plot(lstm_history.history['val_loss'], label='Validation Loss')\n",
        "plt.title('Model Loss')\n",
        "plt.xlabel('Epochs')\n",
        "plt.ylabel('Loss (MSE)')\n",
        "plt.legend()\n"
      ],
      "metadata": {
        "id": "hgnImsk-5AaO",
        "colab": {
          "base_uri": "https://localhost:8080/",
          "height": 581
        },
        "outputId": "858a93cf-936b-4244-8dc1-09d9f617a867"
      },
      "execution_count": null,
      "outputs": [
        {
          "output_type": "execute_result",
          "data": {
            "text/plain": [
              "<matplotlib.legend.Legend at 0x79d3d1fadfd0>"
            ]
          },
          "metadata": {},
          "execution_count": 117
        },
        {
          "output_type": "display_data",
          "data": {
            "text/plain": [
              "<Figure size 1200x600 with 1 Axes>"
            ],
            "image/png": "[encoded data removed]"
          },
          "metadata": {}
        }
      ]
    },
    {
      "cell_type": "code",
      "source": [
        "lstm_predictions = lstm_model.predict(X_test)\n",
        "print(lstm_predictions)"
      ],
      "metadata": {
        "id": "91CKCZSE54cX",
        "colab": {
          "base_uri": "https://localhost:8080/"
        },
        "outputId": "916be1ce-33e1-41f4-e27f-ab8656573e42"
      },
      "execution_count": null,
      "outputs": [
        {
          "output_type": "stream",
          "name": "stdout",
          "text": [
            "\u001b[1m47/47\u001b[0m \u001b[32m━━━━━━━━━━━━━━━━━━━━\u001b[0m\u001b[37m\u001b[0m \u001b[1m2s\u001b[0m 23ms/step\n",
            "[[0.02090271]\n",
            " [0.02090271]\n",
            " [0.02090271]\n",
            " ...\n",
            " [0.02090271]\n",
            " [0.02090271]\n",
            " [0.02090271]]\n"
          ]
        }
      ]
    },
    {
      "cell_type": "code",
      "source": [
        "lstm_predictions = inverse_transform_predictions(lstm_predictions).flatten()\n",
        "print(lstm_predictions)"
      ],
      "metadata": {
        "id": "0EY1vTfA6nml",
        "colab": {
          "base_uri": "https://localhost:8080/"
        },
        "outputId": "dae0c7f7-6ea0-4fe9-f4a7-2c294bbeb4e4"
      },
      "execution_count": null,
      "outputs": [
        {
          "output_type": "stream",
          "name": "stdout",
          "text": [
            "[6106.581 6106.581 6106.581 ... 6106.581 6106.581 6106.581]\n"
          ]
        }
      ]
    },
    {
      "cell_type": "markdown",
      "source": [
        "## 4.2 Validation\n",
        "\n",
        "Validation is the process of evaluating a trained model using a validation set or cross-validation method. It provides metrics that help determine the necessary steps for the next iteration of model development.  \n",
        "\n",
        "For validation, the metric used is **macro f1-score**. A higher f1-score indicates better model calibration.  \n",
        "\n",
        "### Required Validation Results  \n",
        "The validation results that must be included in the notebook are:  \n",
        "1. The validation results from the required baseline models.  \n",
        "2. The validation results from the final submission model on **Kaggle**.  "
      ],
      "metadata": {
        "id": "1lPeNCJohenc"
      }
    },
    {
      "cell_type": "code",
      "source": [
        "rnn_train_preds = rnn_model.predict(X_train)\n",
        "rnn_val_preds = rnn_model.predict(X_val)\n",
        "lstm_train_preds = lstm_model.predict(X_train)\n",
        "lstm_val_preds = lstm_model.predict(X_val)\n",
        "\n",
        "# Inverse transform all predictions and actual values\n",
        "rnn_train_preds = inverse_transform_predictions(rnn_train_preds).flatten()\n",
        "rnn_val_preds = inverse_transform_predictions(rnn_val_preds).flatten()\n",
        "lstm_train_preds = inverse_transform_predictions(lstm_train_preds).flatten()\n",
        "lstm_val_preds = inverse_transform_predictions(lstm_val_preds).flatten()\n",
        "y_train_actual = inverse_transform_predictions(y_train.reshape(-1, 1)).flatten()\n",
        "y_val_actual = inverse_transform_predictions(y_val.reshape(-1, 1)).flatten()"
      ],
      "metadata": {
        "id": "68IiNejlTuke",
        "colab": {
          "base_uri": "https://localhost:8080/"
        },
        "outputId": "eb4e7f26-4c86-45e3-eba1-54f8b191d084"
      },
      "execution_count": null,
      "outputs": [
        {
          "output_type": "stream",
          "name": "stdout",
          "text": [
            "\u001b[1m212/212\u001b[0m \u001b[32m━━━━━━━━━━━━━━━━━━━━\u001b[0m\u001b[37m\u001b[0m \u001b[1m1s\u001b[0m 2ms/step\n",
            "\u001b[1m53/53\u001b[0m \u001b[32m━━━━━━━━━━━━━━━━━━━━\u001b[0m\u001b[37m\u001b[0m \u001b[1m0s\u001b[0m 2ms/step\n",
            "\u001b[1m212/212\u001b[0m \u001b[32m━━━━━━━━━━━━━━━━━━━━\u001b[0m\u001b[37m\u001b[0m \u001b[1m1s\u001b[0m 5ms/step\n",
            "\u001b[1m53/53\u001b[0m \u001b[32m━━━━━━━━━━━━━━━━━━━━\u001b[0m\u001b[37m\u001b[0m \u001b[1m0s\u001b[0m 9ms/step\n"
          ]
        }
      ]
    },
    {
      "cell_type": "code",
      "source": [
        "y_train_actual = inverse_transform_predictions(y_train.reshape(-1, 1)).flatten()\n",
        "y_val_actual = inverse_transform_predictions(y_val.reshape(-1, 1)).flatten()"
      ],
      "metadata": {
        "id": "1SZOhGh-Uh4R"
      },
      "execution_count": null,
      "outputs": []
    },
    {
      "cell_type": "code",
      "source": [
        "import math\n",
        "from sklearn.metrics import mean_squared_error, f1_score\n",
        "\n",
        "def calculate_rmse(actual, predicted):\n",
        "    return math.sqrt(mean_squared_error(actual, predicted))"
      ],
      "metadata": {
        "id": "4p6ETO-rCxTg"
      },
      "execution_count": null,
      "outputs": []
    },
    {
      "cell_type": "code",
      "source": [
        "rnn_train_rmse = calculate_rmse(y_train_actual, rnn_train_preds)\n",
        "rnn_val_rmse = calculate_rmse(y_val_actual, rnn_val_preds)\n",
        "lstm_train_rmse = calculate_rmse(y_train_actual, lstm_train_preds)\n",
        "lstm_val_rmse = calculate_rmse(y_val_actual, lstm_val_preds)"
      ],
      "metadata": {
        "id": "GNNsAOJ2UrJa"
      },
      "execution_count": null,
      "outputs": []
    },
    {
      "cell_type": "code",
      "source": [
        "def calculate_f1(actual, predicted, threshold=5000):\n",
        "    actual_binary = (actual > threshold).astype(int)\n",
        "    predicted_binary = (predicted > threshold).astype(int)\n",
        "    return f1_score(actual_binary, predicted_binary, average='weighted')"
      ],
      "metadata": {
        "id": "FlvwTbJSQtyy"
      },
      "execution_count": null,
      "outputs": []
    },
    {
      "cell_type": "code",
      "source": [
        "threshold = np.mean(y_train_actual)\n",
        "rnn_train_f1 = calculate_f1(y_train_actual, rnn_train_preds, threshold)\n",
        "rnn_val_f1 = calculate_f1(y_val_actual, rnn_val_preds, threshold)\n",
        "lstm_train_f1 = calculate_f1(y_train_actual, lstm_train_preds, threshold)\n",
        "lstm_val_f1 = calculate_f1(y_val_actual, lstm_val_preds, threshold)"
      ],
      "metadata": {
        "id": "9c_1Nu_yUs__"
      },
      "execution_count": null,
      "outputs": []
    },
    {
      "cell_type": "code",
      "source": [
        "# Print evaluation metrics\n",
        "print(\"\\n--- Evaluation Metrics ---\\n\")\n",
        "print(\"RNN - Train RMSE: {:.2f}, Validation RMSE: {:.2f}\".format(rnn_train_rmse, rnn_val_rmse))\n",
        "print(\"RNN - Train F1: {:.4f}, Validation F1: {:.4f}\".format(rnn_train_f1, rnn_val_f1))\n",
        "print(\"LSTM - Train RMSE: {:.2f}, Validation RMSE: {:.2f}\".format(lstm_train_rmse, lstm_val_rmse))\n",
        "print(\"LSTM - Train F1: {:.4f}, Validation F1: {:.4f}\".format(lstm_train_f1, lstm_val_f1))\n"
      ],
      "metadata": {
        "colab": {
          "base_uri": "https://localhost:8080/"
        },
        "id": "UbYAmw2TU5J-",
        "outputId": "eacfd50f-fc15-4365-fea7-ce6e870837df"
      },
      "execution_count": null,
      "outputs": [
        {
          "output_type": "stream",
          "name": "stdout",
          "text": [
            "\n",
            "--- Evaluation Metrics ---\n",
            "\n",
            "RNN - Train RMSE: 9783.21, Validation RMSE: 6280.12\n",
            "RNN - Train F1: 0.9997, Validation F1: 0.9994\n",
            "LSTM - Train RMSE: 20564.08, Validation RMSE: 12815.56\n",
            "LSTM - Train F1: 0.9985, Validation F1: 0.9958\n"
          ]
        }
      ]
    },
    {
      "cell_type": "markdown",
      "source": [
        "## Submission\n",
        "To predict the test set target feature and submit the results to the kaggle competition platform, do the following:\n",
        "1. Create a new pipeline instance identical to the first in Data Preprocessing\n",
        "2. With the pipeline, apply `fit_transform` to the original training set before splitting, then only apply `transform` to the test set.\n",
        "3. Retrain the model on the preprocessed training set\n",
        "4. Predict the test set"
      ],
      "metadata": {
        "id": "Li4l53DjLfHh"
      }
    },
    {
      "cell_type": "code",
      "source": [
        "rnn_results_df = pd.DataFrame()\n",
        "\n",
        "if isinstance(test_df.index, pd.DatetimeIndex):\n",
        "    # If test_df already has a datetime index, use that\n",
        "    rnn_results_df['time'] = test_df.index[:len(rnn_predictions)]\n",
        "else:\n",
        "    # If there's no datetime index, check if there's a 'time' column in the original data\n",
        "    if 'time' in test_df.columns:\n",
        "        rnn_results_df['time'] = test_df['time'].iloc[:len(rnn_predictions)].values\n",
        "    else:\n",
        "        import datetime\n",
        "        start_date = datetime.datetime.now()\n",
        "        dates = [start_date + datetime.timedelta(days=i) for i in range(len(rnn_predictions))]\n",
        "        rnn_results_df['time'] = dates\n",
        "\n",
        "# Add the h1 predictions\n",
        "rnn_results_df['h1'] = rnn_predictions\n",
        "\n",
        "rnn_results_df.to_csv('/content/result_rnn.csv', index=False)"
      ],
      "metadata": {
        "id": "Z_Nb4vMA_qvU"
      },
      "execution_count": null,
      "outputs": []
    },
    {
      "cell_type": "code",
      "source": [
        "lstm_results_df = pd.DataFrame()\n",
        "\n",
        "# Add date column\n",
        "if isinstance(test_df.index, pd.DatetimeIndex):\n",
        "    # If test_df already has a datetime index, use that\n",
        "    # Note: We need to account for the time_steps offset\n",
        "    # The predictions start at position time_steps in the original data\n",
        "    lstm_results_df['time'] = test_df.index[0:1500]\n",
        "else:\n",
        "    # If there's no datetime index, check if there's a 'time' column in the original data\n",
        "    if 'time' in test_df.columns:\n",
        "        lstm_results_df['time'] = test_df['time'].iloc[time_steps:time_steps+len(lstm_predictions)].values\n",
        "    else:\n",
        "        import datetime\n",
        "        start_date = datetime.datetime.now()\n",
        "        dates = [start_date + datetime.timedelta(days=i) for i in range(len(lstm_predictions))]\n",
        "        lstm_results_df['time'] = dates\n",
        "\n",
        "# Add the h1 predictions\n",
        "lstm_results_df['h1'] = lstm_predictions\n",
        "\n",
        "lstm_results_df.to_csv('/content/result_lstm_3.csv', index=False)\n",
        "\n",
        "print(f\"Results saved to '/content/result_lstm_3.csv'\")\n",
        "print(\"Preview of results:\")\n",
        "print(lstm_results_df.head())"
      ],
      "metadata": {
        "id": "LeqnfWc-LfHi",
        "colab": {
          "base_uri": "https://localhost:8080/"
        },
        "outputId": "5d13e648-6e4d-4035-e0f7-bc85abf29798"
      },
      "execution_count": null,
      "outputs": [
        {
          "output_type": "stream",
          "name": "stdout",
          "text": [
            "Results saved to '/content/result_lstm_3.csv'\n",
            "Preview of results:\n",
            "        time           h1\n",
            "0 2045-04-10  4695.055176\n",
            "1 2045-04-11  4695.055176\n",
            "2 2045-04-12  4695.055176\n",
            "3 2045-04-13  4695.055176\n",
            "4 2045-04-14  4695.055176\n"
          ]
        }
      ]
    },
    {
      "cell_type": "markdown",
      "source": [
        "# 5. Error Analysis\n",
        "\n",
        "Based on all the process you have done until the modeling and evaluation step, write an analysis to support each steps you have taken to solve this problem. Write the analysis using the markdown block. Some questions that may help you in writing the analysis:\n",
        "\n",
        "1. What is the error distribution between classes? Do most misclassifications come from one class?\n",
        "2. Are there more false positives or false negatives?\n",
        "3. Do occlusions or unusual angles contribute to errors?\n",
        "4. Are the misclassifications random or do they follow a certain pattern?\n",
        "5. etc.."
      ],
      "metadata": {
        "id": "R-jXvKOpLfHi"
      }
    },
    {
      "cell_type": "markdown",
      "source": [
        "Since we're using regression value, we cannot calculate the error distribution between classes. From the experiment, the model training loss value for LSTM is lower than RNN. From that, we can conclude LSTM's result is better than RNN. The RMSE value of LSTM is also lower and better than RNN. This is caused by LSTM capability of saving long-term memory and saving gate to select which time-series to forget or delete."
      ],
      "metadata": {
        "id": "xY6juevAePwI"
      }
    },
    {
      "cell_type": "markdown",
      "source": [
        "# 6. Insights\n",
        "\n",
        "For each step you have done, do an analysis and mention the insights obtained."
      ],
      "metadata": {
        "id": "wvS-lGcM_1sK"
      }
    },
    {
      "cell_type": "markdown",
      "source": [
        "From the Exploratory Data Analysis, we can conclude time is a time-series column and each time-series is contributing effect to the next time-series.\n",
        "\n",
        "The dataset is already clean, there is no null value. But the distribution of the dataset is not normal.\n",
        "\n",
        "From the modelling and validation, we can conclude that the LSTM model provide better result than RNN."
      ],
      "metadata": {
        "id": "UR2Vy0DsAHan"
      }
    }
  ]
}